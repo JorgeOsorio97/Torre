{
 "cells": [
  {
   "cell_type": "markdown",
   "metadata": {},
   "source": [
    "# Technical Test Torre\n",
    "By: Jorge Aurelio Valdez Osorio\n",
    "\n",
    "jorge.valdez.osorio@gmail.com"
   ]
  },
  {
   "cell_type": "markdown",
   "metadata": {},
   "source": [
    "### Import libraries"
   ]
  },
  {
   "cell_type": "code",
   "execution_count": 1,
   "metadata": {},
   "outputs": [],
   "source": [
    "import torch\n",
    "import pandas as pd\n",
    "import numpy as np\n",
    "import matplotlib.pyplot as plt\n",
    "import seaborn as sn\n",
    "from sklearn.cluster import KMeans \n",
    "from sklearn.feature_extraction.text import TfidfVectorizer\n",
    "from sklearn.svm import SVR\n",
    "from sklearn.ensemble import RandomForestRegressor\n",
    "from sklearn.linear_model import LinearRegression\n",
    "from sklearn.decomposition import PCA\n",
    "from sklearn.preprocessing import normalize\n",
    "from sklearn.model_selection import train_test_split\n",
    "from sklearn.metrics import r2_score\n",
    "import joblib\n",
    "\n",
    "import re\n",
    "from sys import getsizeof"
   ]
  },
  {
   "cell_type": "markdown",
   "metadata": {},
   "source": [
    "## Initial data exploration and data cleaning"
   ]
  },
  {
   "cell_type": "code",
   "execution_count": 2,
   "metadata": {},
   "outputs": [],
   "source": [
    "# Add the data in a data frame\n",
    "data = pd.read_csv('reed_uk.csv')\n",
    "or_data = data.copy()"
   ]
  },
  {
   "cell_type": "markdown",
   "metadata": {},
   "source": [
    "First of all we are going to see what data do we have."
   ]
  },
  {
   "cell_type": "code",
   "execution_count": 3,
   "metadata": {},
   "outputs": [
    {
     "data": {
      "text/html": [
       "<div>\n",
       "<style scoped>\n",
       "    .dataframe tbody tr th:only-of-type {\n",
       "        vertical-align: middle;\n",
       "    }\n",
       "\n",
       "    .dataframe tbody tr th {\n",
       "        vertical-align: top;\n",
       "    }\n",
       "\n",
       "    .dataframe thead th {\n",
       "        text-align: right;\n",
       "    }\n",
       "</style>\n",
       "<table border=\"1\" class=\"dataframe\">\n",
       "  <thead>\n",
       "    <tr style=\"text-align: right;\">\n",
       "      <th></th>\n",
       "      <th>category</th>\n",
       "      <th>city</th>\n",
       "      <th>company_name</th>\n",
       "      <th>geo</th>\n",
       "      <th>job_board</th>\n",
       "      <th>job_description</th>\n",
       "      <th>job_requirements</th>\n",
       "      <th>job_title</th>\n",
       "      <th>job_type</th>\n",
       "      <th>post_date</th>\n",
       "      <th>salary_offered</th>\n",
       "      <th>state</th>\n",
       "    </tr>\n",
       "  </thead>\n",
       "  <tbody>\n",
       "    <tr>\n",
       "      <th>0</th>\n",
       "      <td>catering jobs</td>\n",
       "      <td>Chudleigh</td>\n",
       "      <td>Haulfryn Group</td>\n",
       "      <td>uk</td>\n",
       "      <td>reed</td>\n",
       "      <td>Apply now New opportunity not to be missed! H...</td>\n",
       "      <td>NaN</td>\n",
       "      <td>Commis Chef</td>\n",
       "      <td>Permanent, full-time</td>\n",
       "      <td>3/12/2018</td>\n",
       "      <td>£18,323 per annum</td>\n",
       "      <td>Devon</td>\n",
       "    </tr>\n",
       "    <tr>\n",
       "      <th>1</th>\n",
       "      <td>law jobs</td>\n",
       "      <td>Swindon</td>\n",
       "      <td>Reed</td>\n",
       "      <td>uk</td>\n",
       "      <td>reed</td>\n",
       "      <td>Apply now This role requires an experienced s...</td>\n",
       "      <td>NaN</td>\n",
       "      <td>Corporate Legal Secretary</td>\n",
       "      <td>Permanent, full-time</td>\n",
       "      <td>3/8/2018</td>\n",
       "      <td>£18,000 - £22,000 per annum</td>\n",
       "      <td>Wiltshire</td>\n",
       "    </tr>\n",
       "    <tr>\n",
       "      <th>2</th>\n",
       "      <td>factory jobs</td>\n",
       "      <td>Norfolk</td>\n",
       "      <td>Swanstaff Recruitment Ltd</td>\n",
       "      <td>uk</td>\n",
       "      <td>reed</td>\n",
       "      <td>Apply now Job Title: Warehouse personLocation...</td>\n",
       "      <td>NaN</td>\n",
       "      <td>Warehouse Person</td>\n",
       "      <td>Permanent, full-time</td>\n",
       "      <td>2/27/2018</td>\n",
       "      <td>Salary not specified</td>\n",
       "      <td>East Anglia</td>\n",
       "    </tr>\n",
       "    <tr>\n",
       "      <th>3</th>\n",
       "      <td>law jobs</td>\n",
       "      <td>Hurstpierpoint</td>\n",
       "      <td>Castles Solicitors</td>\n",
       "      <td>uk</td>\n",
       "      <td>reed</td>\n",
       "      <td>Apply now Castles Solicitors are looking for ...</td>\n",
       "      <td>Required skills Admin Case Management Corresp...</td>\n",
       "      <td>Legal Secretary / Admin Assistant</td>\n",
       "      <td>Permanent, full-time or part-time</td>\n",
       "      <td>2/21/2018</td>\n",
       "      <td>£15,000 - £17,000 per annum, pro-rata</td>\n",
       "      <td>West Sussex</td>\n",
       "    </tr>\n",
       "    <tr>\n",
       "      <th>4</th>\n",
       "      <td>factory jobs</td>\n",
       "      <td>Hertfordshire</td>\n",
       "      <td>Marketplace Group</td>\n",
       "      <td>uk</td>\n",
       "      <td>reed</td>\n",
       "      <td>Apply now International Pharmaceutical Manufa...</td>\n",
       "      <td>NaN</td>\n",
       "      <td>Category Planner - Pharmaceutical</td>\n",
       "      <td>Permanent, full-time</td>\n",
       "      <td>3/1/2018</td>\n",
       "      <td>£37,000 - £45,000 per annum</td>\n",
       "      <td>South East England</td>\n",
       "    </tr>\n",
       "  </tbody>\n",
       "</table>\n",
       "</div>"
      ],
      "text/plain": [
       "        category            city                company_name geo job_board  \\\n",
       "0  catering jobs       Chudleigh             Haulfryn Group   uk      reed   \n",
       "1       law jobs         Swindon                       Reed   uk      reed   \n",
       "2   factory jobs         Norfolk  Swanstaff Recruitment Ltd   uk      reed   \n",
       "3       law jobs  Hurstpierpoint         Castles Solicitors   uk      reed   \n",
       "4   factory jobs   Hertfordshire          Marketplace Group   uk      reed   \n",
       "\n",
       "                                     job_description  \\\n",
       "0   Apply now New opportunity not to be missed! H...   \n",
       "1   Apply now This role requires an experienced s...   \n",
       "2   Apply now Job Title: Warehouse personLocation...   \n",
       "3   Apply now Castles Solicitors are looking for ...   \n",
       "4   Apply now International Pharmaceutical Manufa...   \n",
       "\n",
       "                                    job_requirements  \\\n",
       "0                                                NaN   \n",
       "1                                                NaN   \n",
       "2                                                NaN   \n",
       "3   Required skills Admin Case Management Corresp...   \n",
       "4                                                NaN   \n",
       "\n",
       "                           job_title                           job_type  \\\n",
       "0                        Commis Chef               Permanent, full-time   \n",
       "1          Corporate Legal Secretary               Permanent, full-time   \n",
       "2                   Warehouse Person               Permanent, full-time   \n",
       "3  Legal Secretary / Admin Assistant  Permanent, full-time or part-time   \n",
       "4  Category Planner - Pharmaceutical               Permanent, full-time   \n",
       "\n",
       "   post_date                           salary_offered               state  \n",
       "0  3/12/2018                       £18,323 per annum                Devon  \n",
       "1   3/8/2018             £18,000 - £22,000 per annum            Wiltshire  \n",
       "2  2/27/2018                    Salary not specified          East Anglia  \n",
       "3  2/21/2018   £15,000 - £17,000 per annum, pro-rata          West Sussex  \n",
       "4   3/1/2018             £37,000 - £45,000 per annum   South East England  "
      ]
     },
     "execution_count": 3,
     "metadata": {},
     "output_type": "execute_result"
    }
   ],
   "source": [
    "data.head()"
   ]
  },
  {
   "cell_type": "markdown",
   "metadata": {},
   "source": [
    "As a first galnce we can define each field like this:\n",
    "* category: (str) a category that describes the area of business of the job.\n",
    "* city: (str) the city where the job is located.\n",
    "* company_name: (str) company listing the job..\n",
    "* geo: (str) conuntry where te job is listed\n",
    "* job_board: (str) ¿?.\n",
    "* job_description: (str) text descrbing the job listing.\n",
    "* job_requirements: (str) text thas display the requiremns that an applicant must have to apply for the job.\n",
    "* job_title: (str) title for the job.\n",
    "* job_type: (str) This seems to describe two characterístics of the job, the *contract_type* (permanent, temporal, contract, etc) and *daily_work* (full-time or part-time).\n",
    "* post_date: (date: 'mm/dd/aaaa') publication date of the job listing.\n",
    "* salary_offered: (str) How much the company is offering to pay for the job.\n",
    "* state: (str) state where the job is located"
   ]
  },
  {
   "cell_type": "markdown",
   "metadata": {},
   "source": [
    "Now we see a little description of th data"
   ]
  },
  {
   "cell_type": "code",
   "execution_count": 4,
   "metadata": {},
   "outputs": [
    {
     "data": {
      "text/html": [
       "<div>\n",
       "<style scoped>\n",
       "    .dataframe tbody tr th:only-of-type {\n",
       "        vertical-align: middle;\n",
       "    }\n",
       "\n",
       "    .dataframe tbody tr th {\n",
       "        vertical-align: top;\n",
       "    }\n",
       "\n",
       "    .dataframe thead th {\n",
       "        text-align: right;\n",
       "    }\n",
       "</style>\n",
       "<table border=\"1\" class=\"dataframe\">\n",
       "  <thead>\n",
       "    <tr style=\"text-align: right;\">\n",
       "      <th></th>\n",
       "      <th>category</th>\n",
       "      <th>city</th>\n",
       "      <th>company_name</th>\n",
       "      <th>geo</th>\n",
       "      <th>job_board</th>\n",
       "      <th>job_description</th>\n",
       "      <th>job_requirements</th>\n",
       "      <th>job_title</th>\n",
       "      <th>job_type</th>\n",
       "      <th>post_date</th>\n",
       "      <th>salary_offered</th>\n",
       "      <th>state</th>\n",
       "    </tr>\n",
       "  </thead>\n",
       "  <tbody>\n",
       "    <tr>\n",
       "      <th>count</th>\n",
       "      <td>50000</td>\n",
       "      <td>50000</td>\n",
       "      <td>50000</td>\n",
       "      <td>50000</td>\n",
       "      <td>50000</td>\n",
       "      <td>50000</td>\n",
       "      <td>20548</td>\n",
       "      <td>50000</td>\n",
       "      <td>50000</td>\n",
       "      <td>50000</td>\n",
       "      <td>50000</td>\n",
       "      <td>49980</td>\n",
       "    </tr>\n",
       "    <tr>\n",
       "      <th>unique</th>\n",
       "      <td>37</td>\n",
       "      <td>2918</td>\n",
       "      <td>5166</td>\n",
       "      <td>1</td>\n",
       "      <td>1</td>\n",
       "      <td>42057</td>\n",
       "      <td>14887</td>\n",
       "      <td>29155</td>\n",
       "      <td>9</td>\n",
       "      <td>66</td>\n",
       "      <td>7345</td>\n",
       "      <td>167</td>\n",
       "    </tr>\n",
       "    <tr>\n",
       "      <th>top</th>\n",
       "      <td>health jobs</td>\n",
       "      <td>London</td>\n",
       "      <td>Hays Specialist Recruitment Limited</td>\n",
       "      <td>uk</td>\n",
       "      <td>reed</td>\n",
       "      <td>Apply on employer's website Add an annual tur...</td>\n",
       "      <td>Required skills Recruitment</td>\n",
       "      <td>Administrator</td>\n",
       "      <td>Permanent, full-time</td>\n",
       "      <td>3/7/2018</td>\n",
       "      <td>Salary negotiable</td>\n",
       "      <td>London</td>\n",
       "    </tr>\n",
       "    <tr>\n",
       "      <th>freq</th>\n",
       "      <td>1930</td>\n",
       "      <td>4349</td>\n",
       "      <td>1830</td>\n",
       "      <td>50000</td>\n",
       "      <td>50000</td>\n",
       "      <td>85</td>\n",
       "      <td>123</td>\n",
       "      <td>162</td>\n",
       "      <td>36864</td>\n",
       "      <td>8472</td>\n",
       "      <td>4539</td>\n",
       "      <td>5900</td>\n",
       "    </tr>\n",
       "  </tbody>\n",
       "</table>\n",
       "</div>"
      ],
      "text/plain": [
       "           category    city                          company_name    geo  \\\n",
       "count         50000   50000                                 50000  50000   \n",
       "unique           37    2918                                  5166      1   \n",
       "top     health jobs  London  Hays Specialist Recruitment Limited      uk   \n",
       "freq           1930    4349                                  1830  50000   \n",
       "\n",
       "       job_board                                    job_description  \\\n",
       "count      50000                                              50000   \n",
       "unique         1                                              42057   \n",
       "top         reed   Apply on employer's website Add an annual tur...   \n",
       "freq       50000                                                 85   \n",
       "\n",
       "                     job_requirements      job_title              job_type  \\\n",
       "count                           20548          50000                 50000   \n",
       "unique                          14887          29155                     9   \n",
       "top      Required skills Recruitment   Administrator  Permanent, full-time   \n",
       "freq                              123            162                 36864   \n",
       "\n",
       "       post_date       salary_offered   state  \n",
       "count      50000                50000   49980  \n",
       "unique        66                 7345     167  \n",
       "top     3/7/2018   Salary negotiable   London  \n",
       "freq        8472                 4539    5900  "
      ]
     },
     "execution_count": 4,
     "metadata": {},
     "output_type": "execute_result"
    }
   ],
   "source": [
    "data.describe()"
   ]
  },
  {
   "cell_type": "code",
   "execution_count": 5,
   "metadata": {},
   "outputs": [
    {
     "name": "stdout",
     "output_type": "stream",
     "text": [
      "<class 'pandas.core.frame.DataFrame'>\n",
      "RangeIndex: 50000 entries, 0 to 49999\n",
      "Data columns (total 12 columns):\n",
      " #   Column            Non-Null Count  Dtype \n",
      "---  ------            --------------  ----- \n",
      " 0   category          50000 non-null  object\n",
      " 1   city              50000 non-null  object\n",
      " 2   company_name      50000 non-null  object\n",
      " 3   geo               50000 non-null  object\n",
      " 4   job_board         50000 non-null  object\n",
      " 5   job_description   50000 non-null  object\n",
      " 6   job_requirements  20548 non-null  object\n",
      " 7   job_title         50000 non-null  object\n",
      " 8   job_type          50000 non-null  object\n",
      " 9   post_date         50000 non-null  object\n",
      " 10  salary_offered    50000 non-null  object\n",
      " 11  state             49980 non-null  object\n",
      "dtypes: object(12)\n",
      "memory usage: 4.6+ MB\n"
     ]
    }
   ],
   "source": [
    "data.info()"
   ]
  },
  {
   "cell_type": "markdown",
   "metadata": {},
   "source": [
    "## Data cleaning\n",
    "\n",
    "### Drop extra columns\n",
    "With the first table can conclude that the fields *geo* and *job_board* have only one value, thay are note relevant within this data so we drop them.\n",
    "With the second we see we are having some null values, specially in job requiremnts wher we have more than half the registers as null, also in state we have 20 missing values.\n",
    "\n",
    "Because we only are missing 20 values and this is nos a significant number of registers we are going to drop de rows with missing state.\n",
    "\n",
    "Also as city is directly correlated with state, we are going to simlplify the model by just using state."
   ]
  },
  {
   "cell_type": "code",
   "execution_count": 6,
   "metadata": {},
   "outputs": [
    {
     "data": {
      "text/html": [
       "<div>\n",
       "<style scoped>\n",
       "    .dataframe tbody tr th:only-of-type {\n",
       "        vertical-align: middle;\n",
       "    }\n",
       "\n",
       "    .dataframe tbody tr th {\n",
       "        vertical-align: top;\n",
       "    }\n",
       "\n",
       "    .dataframe thead th {\n",
       "        text-align: right;\n",
       "    }\n",
       "</style>\n",
       "<table border=\"1\" class=\"dataframe\">\n",
       "  <thead>\n",
       "    <tr style=\"text-align: right;\">\n",
       "      <th></th>\n",
       "      <th>category</th>\n",
       "      <th>job_description</th>\n",
       "      <th>job_requirements</th>\n",
       "      <th>job_type</th>\n",
       "      <th>salary_offered</th>\n",
       "      <th>state</th>\n",
       "    </tr>\n",
       "  </thead>\n",
       "  <tbody>\n",
       "    <tr>\n",
       "      <th>0</th>\n",
       "      <td>catering jobs</td>\n",
       "      <td>Apply now New opportunity not to be missed! H...</td>\n",
       "      <td>NaN</td>\n",
       "      <td>Permanent, full-time</td>\n",
       "      <td>£18,323 per annum</td>\n",
       "      <td>Devon</td>\n",
       "    </tr>\n",
       "    <tr>\n",
       "      <th>1</th>\n",
       "      <td>law jobs</td>\n",
       "      <td>Apply now This role requires an experienced s...</td>\n",
       "      <td>NaN</td>\n",
       "      <td>Permanent, full-time</td>\n",
       "      <td>£18,000 - £22,000 per annum</td>\n",
       "      <td>Wiltshire</td>\n",
       "    </tr>\n",
       "    <tr>\n",
       "      <th>2</th>\n",
       "      <td>factory jobs</td>\n",
       "      <td>Apply now Job Title: Warehouse personLocation...</td>\n",
       "      <td>NaN</td>\n",
       "      <td>Permanent, full-time</td>\n",
       "      <td>Salary not specified</td>\n",
       "      <td>East Anglia</td>\n",
       "    </tr>\n",
       "    <tr>\n",
       "      <th>3</th>\n",
       "      <td>law jobs</td>\n",
       "      <td>Apply now Castles Solicitors are looking for ...</td>\n",
       "      <td>Required skills Admin Case Management Corresp...</td>\n",
       "      <td>Permanent, full-time or part-time</td>\n",
       "      <td>£15,000 - £17,000 per annum, pro-rata</td>\n",
       "      <td>West Sussex</td>\n",
       "    </tr>\n",
       "    <tr>\n",
       "      <th>4</th>\n",
       "      <td>factory jobs</td>\n",
       "      <td>Apply now International Pharmaceutical Manufa...</td>\n",
       "      <td>NaN</td>\n",
       "      <td>Permanent, full-time</td>\n",
       "      <td>£37,000 - £45,000 per annum</td>\n",
       "      <td>South East England</td>\n",
       "    </tr>\n",
       "  </tbody>\n",
       "</table>\n",
       "</div>"
      ],
      "text/plain": [
       "        category                                    job_description  \\\n",
       "0  catering jobs   Apply now New opportunity not to be missed! H...   \n",
       "1       law jobs   Apply now This role requires an experienced s...   \n",
       "2   factory jobs   Apply now Job Title: Warehouse personLocation...   \n",
       "3       law jobs   Apply now Castles Solicitors are looking for ...   \n",
       "4   factory jobs   Apply now International Pharmaceutical Manufa...   \n",
       "\n",
       "                                    job_requirements  \\\n",
       "0                                                NaN   \n",
       "1                                                NaN   \n",
       "2                                                NaN   \n",
       "3   Required skills Admin Case Management Corresp...   \n",
       "4                                                NaN   \n",
       "\n",
       "                            job_type                           salary_offered  \\\n",
       "0               Permanent, full-time                       £18,323 per annum    \n",
       "1               Permanent, full-time             £18,000 - £22,000 per annum    \n",
       "2               Permanent, full-time                    Salary not specified    \n",
       "3  Permanent, full-time or part-time   £15,000 - £17,000 per annum, pro-rata    \n",
       "4               Permanent, full-time             £37,000 - £45,000 per annum    \n",
       "\n",
       "                state  \n",
       "0               Devon  \n",
       "1           Wiltshire  \n",
       "2         East Anglia  \n",
       "3         West Sussex  \n",
       "4  South East England  "
      ]
     },
     "execution_count": 6,
     "metadata": {},
     "output_type": "execute_result"
    }
   ],
   "source": [
    "data = data.drop(columns=['geo', 'job_board', 'city', 'company_name','job_title', 'post_date'])\n",
    "data = data[np.logical_not(data['state'].isnull())].reset_index(drop=True)\n",
    "data.head()"
   ]
  },
  {
   "cell_type": "code",
   "execution_count": 7,
   "metadata": {},
   "outputs": [
    {
     "data": {
      "text/html": [
       "<div>\n",
       "<style scoped>\n",
       "    .dataframe tbody tr th:only-of-type {\n",
       "        vertical-align: middle;\n",
       "    }\n",
       "\n",
       "    .dataframe tbody tr th {\n",
       "        vertical-align: top;\n",
       "    }\n",
       "\n",
       "    .dataframe thead th {\n",
       "        text-align: right;\n",
       "    }\n",
       "</style>\n",
       "<table border=\"1\" class=\"dataframe\">\n",
       "  <thead>\n",
       "    <tr style=\"text-align: right;\">\n",
       "      <th></th>\n",
       "      <th>category</th>\n",
       "      <th>job_description</th>\n",
       "      <th>job_requirements</th>\n",
       "      <th>job_type</th>\n",
       "      <th>salary_offered</th>\n",
       "      <th>state</th>\n",
       "    </tr>\n",
       "  </thead>\n",
       "  <tbody>\n",
       "    <tr>\n",
       "      <th>count</th>\n",
       "      <td>49980</td>\n",
       "      <td>49980</td>\n",
       "      <td>20546</td>\n",
       "      <td>49980</td>\n",
       "      <td>49980</td>\n",
       "      <td>49980</td>\n",
       "    </tr>\n",
       "    <tr>\n",
       "      <th>unique</th>\n",
       "      <td>37</td>\n",
       "      <td>42038</td>\n",
       "      <td>14885</td>\n",
       "      <td>9</td>\n",
       "      <td>7338</td>\n",
       "      <td>167</td>\n",
       "    </tr>\n",
       "    <tr>\n",
       "      <th>top</th>\n",
       "      <td>health jobs</td>\n",
       "      <td>Apply on employer's website Add an annual tur...</td>\n",
       "      <td>Required skills Recruitment</td>\n",
       "      <td>Permanent, full-time</td>\n",
       "      <td>Salary negotiable</td>\n",
       "      <td>London</td>\n",
       "    </tr>\n",
       "    <tr>\n",
       "      <th>freq</th>\n",
       "      <td>1930</td>\n",
       "      <td>85</td>\n",
       "      <td>123</td>\n",
       "      <td>36846</td>\n",
       "      <td>4534</td>\n",
       "      <td>5900</td>\n",
       "    </tr>\n",
       "  </tbody>\n",
       "</table>\n",
       "</div>"
      ],
      "text/plain": [
       "           category                                    job_description  \\\n",
       "count         49980                                              49980   \n",
       "unique           37                                              42038   \n",
       "top     health jobs   Apply on employer's website Add an annual tur...   \n",
       "freq           1930                                                 85   \n",
       "\n",
       "                     job_requirements              job_type  \\\n",
       "count                           20546                 49980   \n",
       "unique                          14885                     9   \n",
       "top      Required skills Recruitment   Permanent, full-time   \n",
       "freq                              123                 36846   \n",
       "\n",
       "             salary_offered   state  \n",
       "count                 49980   49980  \n",
       "unique                 7338     167  \n",
       "top      Salary negotiable   London  \n",
       "freq                   4534    5900  "
      ]
     },
     "execution_count": 7,
     "metadata": {},
     "output_type": "execute_result"
    }
   ],
   "source": [
    "data.describe()"
   ]
  },
  {
   "cell_type": "code",
   "execution_count": 8,
   "metadata": {},
   "outputs": [
    {
     "name": "stdout",
     "output_type": "stream",
     "text": [
      "<class 'pandas.core.frame.DataFrame'>\n",
      "RangeIndex: 49980 entries, 0 to 49979\n",
      "Data columns (total 6 columns):\n",
      " #   Column            Non-Null Count  Dtype \n",
      "---  ------            --------------  ----- \n",
      " 0   category          49980 non-null  object\n",
      " 1   job_description   49980 non-null  object\n",
      " 2   job_requirements  20546 non-null  object\n",
      " 3   job_type          49980 non-null  object\n",
      " 4   salary_offered    49980 non-null  object\n",
      " 5   state             49980 non-null  object\n",
      "dtypes: object(6)\n",
      "memory usage: 2.3+ MB\n"
     ]
    }
   ],
   "source": [
    "data.info()"
   ]
  },
  {
   "cell_type": "markdown",
   "metadata": {},
   "source": [
    "### Cleaninig *category*\n",
    "We just delete \" jobs\" from every cactegory to keep it simple."
   ]
  },
  {
   "cell_type": "code",
   "execution_count": 9,
   "metadata": {},
   "outputs": [],
   "source": [
    "data['category'] = data['category'].str.replace(' jobs', '', regex=True).replace(' ','_', regex=True)"
   ]
  },
  {
   "cell_type": "markdown",
   "metadata": {},
   "source": [
    "### Cleaninig *job_description* and *job_requirements*\n",
    "\n",
    "First we are going to delete common words and characters that does not give information to the model in this context such as \"Apply now\" then we are going to join this two fields and use TF-IDF to trannsform this data into vectors."
   ]
  },
  {
   "cell_type": "code",
   "execution_count": 10,
   "metadata": {},
   "outputs": [
    {
     "data": {
      "text/plain": [
       "28"
      ]
     },
     "execution_count": 10,
     "metadata": {},
     "output_type": "execute_result"
    }
   ],
   "source": [
    "data['job_description'] = data.apply(\n",
    "    lambda x: f'{x[\"job_description\"]} {x[\"job_requirements\"] if not pd.isnull(x[\"job_requirements\"]) else \"\"}'.lower(),\n",
    "    axis=1\n",
    ")\n",
    "\n",
    "st_wr = '|'.join([\n",
    "    # common non importat phrases\n",
    "    'apply now', \n",
    "    'required skills', \n",
    "    'looking for', \n",
    "    'essential skills', \n",
    "    'new opportunity', \n",
    "    'not to be missed', \n",
    "    'key Attributes:',\n",
    "    'no agencies',\n",
    "    'keywords:',\n",
    "    'position:'\n",
    "    \n",
    "    # common text interpretation errros\n",
    "    'â€™',\n",
    "    'â€¢',\n",
    "    'Â\\xa0',\n",
    "    'â€“',\n",
    "    'â€™',\n",
    "    'â\\xa0',\n",
    "    'â€¦',\n",
    "    'â€”',\n",
    "    'â©',\n",
    "    'â·',\n",
    "    'â€œ',\n",
    "    '\\\\x9d',\n",
    "    'â€˜',\n",
    "    'ã©',\n",
    "    'ï',\n",
    "    '·',\n",
    "    '‚',\n",
    "    '§',\n",
    "    'â½',\n",
    "    'ãƒ',\n",
    "    'ã´',\n",
    "    'å',\n",
    "    '¸',\n",
    "    'ã',\n",
    "    '³',\n",
    "    '\\\\xa0',\n",
    "    '‰',\n",
    "    'ƒ˜',\n",
    "    'â¾',\n",
    "    '¬',\n",
    "    'â',\n",
    "    '®',\n",
    "    '\\x81',\n",
    "    '€ª',\n",
    "    '±',\n",
    "    '¼',\n",
    "    '\\\\xad',\n",
    "    '„',\n",
    "    '¶',\n",
    "    '¤',\n",
    "    '€',\n",
    "    'ž',\n",
    "    '°',\n",
    "    '»',\n",
    "    '¿',\n",
    "    'š',\n",
    "    '¨',\n",
    "    'ƒ',\n",
    "    'º',\n",
    "    '¥',\n",
    "    '«',\n",
    "    '˜',\n",
    "    '¡',\n",
    "    '¯',\n",
    "    'ª',\n",
    "    \n",
    "    # delete salaries\n",
    "    'â*£[0-9,.]+',\n",
    "    '\\$[0-9,.%]+',\n",
    "    '\\$[0-9,.]+',\n",
    "    '\\$',\n",
    "    'â*£',\n",
    "    '¢',\n",
    "    \n",
    "])\n",
    "\n",
    "data['job_description'] = data['job_description'].str.replace(st_wr, '', regex=True)\n",
    "len(data['job_description'][data['job_description'].str.contains(r\"[^0-9a-zA-z!\\-',/:.* ()\\\\?@+&;%|\\\"#=<>~{}]+\",regex=True)])"
   ]
  },
  {
   "cell_type": "markdown",
   "metadata": {},
   "source": [
    "We are going to create text to vector models using TF-IDF to vectorize and PCA to reduce dimensionality.\n",
    "But we are going to create a model per category to enfasize the importance of words in different business."
   ]
  },
  {
   "cell_type": "code",
   "execution_count": 11,
   "metadata": {},
   "outputs": [],
   "source": [
    "def txt_cluster_model(category, data):\n",
    "    corpus = data['job_description'][data['category']==category]\n",
    "    tfidf_model = TfidfVectorizer(stop_words = 'english', max_features = 50)\n",
    "    tfidf_model = tfidf_model.fit(corpus)\n",
    "    tfidf = tfidf_model.transform(data['job_description'][data['category']==category])\n",
    "    tfidf_norm = normalize(tfidf)\n",
    "    tfidf_array = tfidf_norm.toarray()\n",
    "    pca_model = PCA(n_components=10)\n",
    "    pca_model = pca_model.fit(tfidf_array)\n",
    "    pca_array = pca_model.transform(tfidf_array)\n",
    "    kmeans_model = KMeans(n_clusters=10, random_state=0).fit(pca_array)\n",
    "    \n",
    "    \n",
    "    def txt_pca_model_cat(x):\n",
    "        tfidf_x = tfidf_model.transform(x)\n",
    "        tfidf_x_norm = normalize(tfidf_x)\n",
    "        tfidf_x_array = tfidf_x_norm.toarray()\n",
    "        tfidf_pca_x = pca_model.transform(tfidf_x_array)\n",
    "        cluster = kmeans_model.predict(tfidf_pca_x)\n",
    "        return cluster\n",
    "    \n",
    "    ## We save this models for implementation\n",
    "    joblib.dump(tfidf_model, f'models/{category}_tfidf.joblib')\n",
    "    joblib.dump(pca_model, f'models/{category}_pca.joblib')\n",
    "    joblib.dump(kmeans_model, f'models/{category}_kmeans.joblib')\n",
    "    \n",
    "    \n",
    "    return txt_pca_model_cat\n",
    "\n",
    "txt_cluster_models = {cat: txt_cluster_model(cat, data) for cat in data['category'].drop_duplicates()}\n"
   ]
  },
  {
   "cell_type": "code",
   "execution_count": 12,
   "metadata": {},
   "outputs": [],
   "source": [
    "temp_ser = pd.Series(dtype=int)\n",
    "for cat in data['category'].drop_duplicates():\n",
    "    data_cat = data['job_description'].loc[data['category'] == cat]\n",
    "    temp_ser = temp_ser.append(\n",
    "        data['job_description'].loc[data['category'] == cat].map(\n",
    "            lambda x: txt_cluster_models[cat]([x])[0]\n",
    "        )\n",
    "    )"
   ]
  },
  {
   "cell_type": "code",
   "execution_count": 13,
   "metadata": {},
   "outputs": [
    {
     "data": {
      "text/html": [
       "<div>\n",
       "<style scoped>\n",
       "    .dataframe tbody tr th:only-of-type {\n",
       "        vertical-align: middle;\n",
       "    }\n",
       "\n",
       "    .dataframe tbody tr th {\n",
       "        vertical-align: top;\n",
       "    }\n",
       "\n",
       "    .dataframe thead th {\n",
       "        text-align: right;\n",
       "    }\n",
       "</style>\n",
       "<table border=\"1\" class=\"dataframe\">\n",
       "  <thead>\n",
       "    <tr style=\"text-align: right;\">\n",
       "      <th></th>\n",
       "      <th>category</th>\n",
       "      <th>job_type</th>\n",
       "      <th>salary_offered</th>\n",
       "      <th>state</th>\n",
       "      <th>j_d_v</th>\n",
       "    </tr>\n",
       "  </thead>\n",
       "  <tbody>\n",
       "    <tr>\n",
       "      <th>0</th>\n",
       "      <td>catering</td>\n",
       "      <td>Permanent, full-time</td>\n",
       "      <td>£18,323 per annum</td>\n",
       "      <td>Devon</td>\n",
       "      <td>5</td>\n",
       "    </tr>\n",
       "    <tr>\n",
       "      <th>1</th>\n",
       "      <td>law</td>\n",
       "      <td>Permanent, full-time</td>\n",
       "      <td>£18,000 - £22,000 per annum</td>\n",
       "      <td>Wiltshire</td>\n",
       "      <td>9</td>\n",
       "    </tr>\n",
       "    <tr>\n",
       "      <th>2</th>\n",
       "      <td>factory</td>\n",
       "      <td>Permanent, full-time</td>\n",
       "      <td>Salary not specified</td>\n",
       "      <td>East Anglia</td>\n",
       "      <td>7</td>\n",
       "    </tr>\n",
       "    <tr>\n",
       "      <th>3</th>\n",
       "      <td>law</td>\n",
       "      <td>Permanent, full-time or part-time</td>\n",
       "      <td>£15,000 - £17,000 per annum, pro-rata</td>\n",
       "      <td>West Sussex</td>\n",
       "      <td>2</td>\n",
       "    </tr>\n",
       "    <tr>\n",
       "      <th>4</th>\n",
       "      <td>factory</td>\n",
       "      <td>Permanent, full-time</td>\n",
       "      <td>£37,000 - £45,000 per annum</td>\n",
       "      <td>South East England</td>\n",
       "      <td>6</td>\n",
       "    </tr>\n",
       "  </tbody>\n",
       "</table>\n",
       "</div>"
      ],
      "text/plain": [
       "   category                           job_type  \\\n",
       "0  catering               Permanent, full-time   \n",
       "1       law               Permanent, full-time   \n",
       "2   factory               Permanent, full-time   \n",
       "3       law  Permanent, full-time or part-time   \n",
       "4   factory               Permanent, full-time   \n",
       "\n",
       "                            salary_offered               state  j_d_v  \n",
       "0                       £18,323 per annum                Devon      5  \n",
       "1             £18,000 - £22,000 per annum            Wiltshire      9  \n",
       "2                    Salary not specified          East Anglia      7  \n",
       "3   £15,000 - £17,000 per annum, pro-rata          West Sussex      2  \n",
       "4             £37,000 - £45,000 per annum   South East England      6  "
      ]
     },
     "execution_count": 13,
     "metadata": {},
     "output_type": "execute_result"
    }
   ],
   "source": [
    "temp_ser = temp_ser.rename('j_d_v')\n",
    "data = data.join(temp_ser)\n",
    "data = data.drop(columns=['job_description', 'job_requirements'])\n",
    "data.head()"
   ]
  },
  {
   "cell_type": "markdown",
   "metadata": {},
   "source": [
    "#### Cleaning *job_type*\n",
    "Now we are going to transform *job_type* to divide it in *contract_type* and *daily_work*"
   ]
  },
  {
   "cell_type": "code",
   "execution_count": 14,
   "metadata": {},
   "outputs": [
    {
     "data": {
      "text/html": [
       "<div>\n",
       "<style scoped>\n",
       "    .dataframe tbody tr th:only-of-type {\n",
       "        vertical-align: middle;\n",
       "    }\n",
       "\n",
       "    .dataframe tbody tr th {\n",
       "        vertical-align: top;\n",
       "    }\n",
       "\n",
       "    .dataframe thead th {\n",
       "        text-align: right;\n",
       "    }\n",
       "</style>\n",
       "<table border=\"1\" class=\"dataframe\">\n",
       "  <thead>\n",
       "    <tr style=\"text-align: right;\">\n",
       "      <th></th>\n",
       "      <th>category</th>\n",
       "      <th>salary_offered</th>\n",
       "      <th>state</th>\n",
       "      <th>j_d_v</th>\n",
       "      <th>contract_type</th>\n",
       "      <th>daily_work</th>\n",
       "    </tr>\n",
       "  </thead>\n",
       "  <tbody>\n",
       "    <tr>\n",
       "      <th>0</th>\n",
       "      <td>catering</td>\n",
       "      <td>£18,323 per annum</td>\n",
       "      <td>Devon</td>\n",
       "      <td>5</td>\n",
       "      <td>Permanent</td>\n",
       "      <td>full-time</td>\n",
       "    </tr>\n",
       "    <tr>\n",
       "      <th>1</th>\n",
       "      <td>law</td>\n",
       "      <td>£18,000 - £22,000 per annum</td>\n",
       "      <td>Wiltshire</td>\n",
       "      <td>9</td>\n",
       "      <td>Permanent</td>\n",
       "      <td>full-time</td>\n",
       "    </tr>\n",
       "    <tr>\n",
       "      <th>2</th>\n",
       "      <td>factory</td>\n",
       "      <td>Salary not specified</td>\n",
       "      <td>East Anglia</td>\n",
       "      <td>7</td>\n",
       "      <td>Permanent</td>\n",
       "      <td>full-time</td>\n",
       "    </tr>\n",
       "    <tr>\n",
       "      <th>3</th>\n",
       "      <td>law</td>\n",
       "      <td>£15,000 - £17,000 per annum, pro-rata</td>\n",
       "      <td>West Sussex</td>\n",
       "      <td>2</td>\n",
       "      <td>Permanent</td>\n",
       "      <td>full-time or part-time</td>\n",
       "    </tr>\n",
       "    <tr>\n",
       "      <th>4</th>\n",
       "      <td>factory</td>\n",
       "      <td>£37,000 - £45,000 per annum</td>\n",
       "      <td>South East England</td>\n",
       "      <td>6</td>\n",
       "      <td>Permanent</td>\n",
       "      <td>full-time</td>\n",
       "    </tr>\n",
       "  </tbody>\n",
       "</table>\n",
       "</div>"
      ],
      "text/plain": [
       "   category                           salary_offered               state  \\\n",
       "0  catering                       £18,323 per annum                Devon   \n",
       "1       law             £18,000 - £22,000 per annum            Wiltshire   \n",
       "2   factory                    Salary not specified          East Anglia   \n",
       "3       law   £15,000 - £17,000 per annum, pro-rata          West Sussex   \n",
       "4   factory             £37,000 - £45,000 per annum   South East England   \n",
       "\n",
       "   j_d_v contract_type               daily_work  \n",
       "0      5     Permanent                full-time  \n",
       "1      9     Permanent                full-time  \n",
       "2      7     Permanent                full-time  \n",
       "3      2     Permanent   full-time or part-time  \n",
       "4      6     Permanent                full-time  "
      ]
     },
     "execution_count": 14,
     "metadata": {},
     "output_type": "execute_result"
    }
   ],
   "source": [
    "data['contract_type'], data['daily_work'] = np.transpose(data['job_type'].map(lambda x: x.split(',')).to_list())\n",
    "data = data.drop(columns=['job_type'])\n",
    "data.head()"
   ]
  },
  {
   "cell_type": "markdown",
   "metadata": {},
   "source": [
    "Now we change this variables to dummy variables.\n",
    "First contract_type "
   ]
  },
  {
   "cell_type": "code",
   "execution_count": 15,
   "metadata": {},
   "outputs": [
    {
     "data": {
      "text/plain": [
       "0     Permanent\n",
       "14     Contract\n",
       "17    Temporary\n",
       "Name: contract_type, dtype: object"
      ]
     },
     "execution_count": 15,
     "metadata": {},
     "output_type": "execute_result"
    }
   ],
   "source": [
    "data['contract_type'].drop_duplicates()"
   ]
  },
  {
   "cell_type": "code",
   "execution_count": 16,
   "metadata": {},
   "outputs": [],
   "source": [
    "data = pd.concat([data, pd.get_dummies(data['contract_type'], prefix='c_t')], axis=1) \n",
    "data = data.drop(columns=['contract_type'])\n"
   ]
  },
  {
   "cell_type": "markdown",
   "metadata": {},
   "source": [
    "Now *daily_work*"
   ]
  },
  {
   "cell_type": "code",
   "execution_count": 17,
   "metadata": {},
   "outputs": [
    {
     "data": {
      "text/plain": [
       "0                  full-time\n",
       "3     full-time or part-time\n",
       "5                  part-time\n",
       "Name: daily_work, dtype: object"
      ]
     },
     "execution_count": 17,
     "metadata": {},
     "output_type": "execute_result"
    }
   ],
   "source": [
    "data['daily_work'].drop_duplicates()"
   ]
  },
  {
   "cell_type": "code",
   "execution_count": 18,
   "metadata": {},
   "outputs": [
    {
     "data": {
      "text/html": [
       "<div>\n",
       "<style scoped>\n",
       "    .dataframe tbody tr th:only-of-type {\n",
       "        vertical-align: middle;\n",
       "    }\n",
       "\n",
       "    .dataframe tbody tr th {\n",
       "        vertical-align: top;\n",
       "    }\n",
       "\n",
       "    .dataframe thead th {\n",
       "        text-align: right;\n",
       "    }\n",
       "</style>\n",
       "<table border=\"1\" class=\"dataframe\">\n",
       "  <thead>\n",
       "    <tr style=\"text-align: right;\">\n",
       "      <th></th>\n",
       "      <th>category</th>\n",
       "      <th>salary_offered</th>\n",
       "      <th>state</th>\n",
       "      <th>j_d_v</th>\n",
       "      <th>c_t_Contract</th>\n",
       "      <th>c_t_Permanent</th>\n",
       "      <th>c_t_Temporary</th>\n",
       "      <th>d_w_fulltime</th>\n",
       "      <th>d_w_parttime</th>\n",
       "    </tr>\n",
       "  </thead>\n",
       "  <tbody>\n",
       "    <tr>\n",
       "      <th>0</th>\n",
       "      <td>catering</td>\n",
       "      <td>£18,323 per annum</td>\n",
       "      <td>Devon</td>\n",
       "      <td>5</td>\n",
       "      <td>0</td>\n",
       "      <td>1</td>\n",
       "      <td>0</td>\n",
       "      <td>1</td>\n",
       "      <td>0</td>\n",
       "    </tr>\n",
       "    <tr>\n",
       "      <th>1</th>\n",
       "      <td>law</td>\n",
       "      <td>£18,000 - £22,000 per annum</td>\n",
       "      <td>Wiltshire</td>\n",
       "      <td>9</td>\n",
       "      <td>0</td>\n",
       "      <td>1</td>\n",
       "      <td>0</td>\n",
       "      <td>1</td>\n",
       "      <td>0</td>\n",
       "    </tr>\n",
       "    <tr>\n",
       "      <th>2</th>\n",
       "      <td>factory</td>\n",
       "      <td>Salary not specified</td>\n",
       "      <td>East Anglia</td>\n",
       "      <td>7</td>\n",
       "      <td>0</td>\n",
       "      <td>1</td>\n",
       "      <td>0</td>\n",
       "      <td>1</td>\n",
       "      <td>0</td>\n",
       "    </tr>\n",
       "    <tr>\n",
       "      <th>3</th>\n",
       "      <td>law</td>\n",
       "      <td>£15,000 - £17,000 per annum, pro-rata</td>\n",
       "      <td>West Sussex</td>\n",
       "      <td>2</td>\n",
       "      <td>0</td>\n",
       "      <td>1</td>\n",
       "      <td>0</td>\n",
       "      <td>1</td>\n",
       "      <td>1</td>\n",
       "    </tr>\n",
       "    <tr>\n",
       "      <th>4</th>\n",
       "      <td>factory</td>\n",
       "      <td>£37,000 - £45,000 per annum</td>\n",
       "      <td>South East England</td>\n",
       "      <td>6</td>\n",
       "      <td>0</td>\n",
       "      <td>1</td>\n",
       "      <td>0</td>\n",
       "      <td>1</td>\n",
       "      <td>0</td>\n",
       "    </tr>\n",
       "  </tbody>\n",
       "</table>\n",
       "</div>"
      ],
      "text/plain": [
       "   category                           salary_offered               state  \\\n",
       "0  catering                       £18,323 per annum                Devon   \n",
       "1       law             £18,000 - £22,000 per annum            Wiltshire   \n",
       "2   factory                    Salary not specified          East Anglia   \n",
       "3       law   £15,000 - £17,000 per annum, pro-rata          West Sussex   \n",
       "4   factory             £37,000 - £45,000 per annum   South East England   \n",
       "\n",
       "   j_d_v  c_t_Contract  c_t_Permanent  c_t_Temporary  d_w_fulltime  \\\n",
       "0      5             0              1              0             1   \n",
       "1      9             0              1              0             1   \n",
       "2      7             0              1              0             1   \n",
       "3      2             0              1              0             1   \n",
       "4      6             0              1              0             1   \n",
       "\n",
       "   d_w_parttime  \n",
       "0             0  \n",
       "1             0  \n",
       "2             0  \n",
       "3             1  \n",
       "4             0  "
      ]
     },
     "execution_count": 18,
     "metadata": {},
     "output_type": "execute_result"
    }
   ],
   "source": [
    "data['d_w_fulltime'] = data['daily_work'].map(lambda x: 1 if 'full-time' in x else 0)\n",
    "data['d_w_parttime'] = data['daily_work'].map(lambda x: 1 if 'part-time' in x else 0)\n",
    "data = data.drop(columns=['daily_work'])\n",
    "data.head()"
   ]
  },
  {
   "cell_type": "markdown",
   "metadata": {},
   "source": [
    "### Cleaninig salary\n",
    "\n",
    "First we eliminate trailing spaces."
   ]
  },
  {
   "cell_type": "code",
   "execution_count": 19,
   "metadata": {},
   "outputs": [],
   "source": [
    "data['salary_offered'] = data['salary_offered'].map(lambda x: x.strip())"
   ]
  },
  {
   "cell_type": "markdown",
   "metadata": {},
   "source": [
    "Now we found all the salaries thar are not specified and change them to Null values"
   ]
  },
  {
   "cell_type": "code",
   "execution_count": 20,
   "metadata": {},
   "outputs": [
    {
     "data": {
      "text/plain": [
       "2       Salary not specified\n",
       "12        Competitive salary\n",
       "41         Salary negotiable\n",
       "2021         Commission only\n",
       "Name: salary_offered, dtype: object"
      ]
     },
     "execution_count": 20,
     "metadata": {},
     "output_type": "execute_result"
    }
   ],
   "source": [
    "not_spec_re = r'[^0-9]*'\n",
    "data['salary_offered'][data['salary_offered'].map(lambda x: re.fullmatch(not_spec_re, x) is not None)].drop_duplicates()"
   ]
  },
  {
   "cell_type": "markdown",
   "metadata": {},
   "source": [
    "We are going to see how many salaries we are missing"
   ]
  },
  {
   "cell_type": "code",
   "execution_count": 21,
   "metadata": {},
   "outputs": [
    {
     "data": {
      "text/plain": [
       "8898"
      ]
     },
     "execution_count": 21,
     "metadata": {},
     "output_type": "execute_result"
    }
   ],
   "source": [
    "len(data['salary_offered'].loc[data['salary_offered'].isin(['Salary not specified', 'Competitive salary', 'Salary negotiable', 'Commission only', '£0 per annum'])])"
   ]
  },
  {
   "cell_type": "markdown",
   "metadata": {},
   "source": [
    "As there are not so many missing salaries we are goin to drop them."
   ]
  },
  {
   "cell_type": "code",
   "execution_count": 22,
   "metadata": {},
   "outputs": [
    {
     "name": "stderr",
     "output_type": "stream",
     "text": [
      "/home/jorge/.local/lib/python3.8/site-packages/pandas/core/indexing.py:1636: SettingWithCopyWarning: \n",
      "A value is trying to be set on a copy of a slice from a DataFrame\n",
      "\n",
      "See the caveats in the documentation: https://pandas.pydata.org/pandas-docs/stable/user_guide/indexing.html#returning-a-view-versus-a-copy\n",
      "  self._setitem_single_block(indexer, value, name)\n"
     ]
    },
    {
     "data": {
      "text/html": [
       "<div>\n",
       "<style scoped>\n",
       "    .dataframe tbody tr th:only-of-type {\n",
       "        vertical-align: middle;\n",
       "    }\n",
       "\n",
       "    .dataframe tbody tr th {\n",
       "        vertical-align: top;\n",
       "    }\n",
       "\n",
       "    .dataframe thead th {\n",
       "        text-align: right;\n",
       "    }\n",
       "</style>\n",
       "<table border=\"1\" class=\"dataframe\">\n",
       "  <thead>\n",
       "    <tr style=\"text-align: right;\">\n",
       "      <th></th>\n",
       "      <th>category</th>\n",
       "      <th>salary_offered</th>\n",
       "      <th>state</th>\n",
       "      <th>j_d_v</th>\n",
       "      <th>c_t_Contract</th>\n",
       "      <th>c_t_Permanent</th>\n",
       "      <th>c_t_Temporary</th>\n",
       "      <th>d_w_fulltime</th>\n",
       "      <th>d_w_parttime</th>\n",
       "    </tr>\n",
       "  </thead>\n",
       "  <tbody>\n",
       "    <tr>\n",
       "      <th>0</th>\n",
       "      <td>catering</td>\n",
       "      <td>£18,323 per annum</td>\n",
       "      <td>Devon</td>\n",
       "      <td>5</td>\n",
       "      <td>0</td>\n",
       "      <td>1</td>\n",
       "      <td>0</td>\n",
       "      <td>1</td>\n",
       "      <td>0</td>\n",
       "    </tr>\n",
       "    <tr>\n",
       "      <th>1</th>\n",
       "      <td>law</td>\n",
       "      <td>£18,000 - £22,000 per annum</td>\n",
       "      <td>Wiltshire</td>\n",
       "      <td>9</td>\n",
       "      <td>0</td>\n",
       "      <td>1</td>\n",
       "      <td>0</td>\n",
       "      <td>1</td>\n",
       "      <td>0</td>\n",
       "    </tr>\n",
       "    <tr>\n",
       "      <th>2</th>\n",
       "      <td>factory</td>\n",
       "      <td>NaN</td>\n",
       "      <td>East Anglia</td>\n",
       "      <td>7</td>\n",
       "      <td>0</td>\n",
       "      <td>1</td>\n",
       "      <td>0</td>\n",
       "      <td>1</td>\n",
       "      <td>0</td>\n",
       "    </tr>\n",
       "    <tr>\n",
       "      <th>3</th>\n",
       "      <td>law</td>\n",
       "      <td>£15,000 - £17,000 per annum, pro-rata</td>\n",
       "      <td>West Sussex</td>\n",
       "      <td>2</td>\n",
       "      <td>0</td>\n",
       "      <td>1</td>\n",
       "      <td>0</td>\n",
       "      <td>1</td>\n",
       "      <td>1</td>\n",
       "    </tr>\n",
       "    <tr>\n",
       "      <th>4</th>\n",
       "      <td>factory</td>\n",
       "      <td>£37,000 - £45,000 per annum</td>\n",
       "      <td>South East England</td>\n",
       "      <td>6</td>\n",
       "      <td>0</td>\n",
       "      <td>1</td>\n",
       "      <td>0</td>\n",
       "      <td>1</td>\n",
       "      <td>0</td>\n",
       "    </tr>\n",
       "  </tbody>\n",
       "</table>\n",
       "</div>"
      ],
      "text/plain": [
       "   category                         salary_offered               state  j_d_v  \\\n",
       "0  catering                      £18,323 per annum               Devon      5   \n",
       "1       law            £18,000 - £22,000 per annum           Wiltshire      9   \n",
       "2   factory                                    NaN         East Anglia      7   \n",
       "3       law  £15,000 - £17,000 per annum, pro-rata         West Sussex      2   \n",
       "4   factory            £37,000 - £45,000 per annum  South East England      6   \n",
       "\n",
       "   c_t_Contract  c_t_Permanent  c_t_Temporary  d_w_fulltime  d_w_parttime  \n",
       "0             0              1              0             1             0  \n",
       "1             0              1              0             1             0  \n",
       "2             0              1              0             1             0  \n",
       "3             0              1              0             1             1  \n",
       "4             0              1              0             1             0  "
      ]
     },
     "execution_count": 22,
     "metadata": {},
     "output_type": "execute_result"
    }
   ],
   "source": [
    "data['salary_offered'].loc[data['salary_offered'].isin(['Salary not specified', 'Competitive salary', 'Salary negotiable', 'Commission only', '£0 per annum'])] = np.nan\n",
    "data.head()"
   ]
  },
  {
   "cell_type": "code",
   "execution_count": 23,
   "metadata": {},
   "outputs": [
    {
     "data": {
      "text/html": [
       "<div>\n",
       "<style scoped>\n",
       "    .dataframe tbody tr th:only-of-type {\n",
       "        vertical-align: middle;\n",
       "    }\n",
       "\n",
       "    .dataframe tbody tr th {\n",
       "        vertical-align: top;\n",
       "    }\n",
       "\n",
       "    .dataframe thead th {\n",
       "        text-align: right;\n",
       "    }\n",
       "</style>\n",
       "<table border=\"1\" class=\"dataframe\">\n",
       "  <thead>\n",
       "    <tr style=\"text-align: right;\">\n",
       "      <th></th>\n",
       "      <th>category</th>\n",
       "      <th>salary_offered</th>\n",
       "      <th>state</th>\n",
       "      <th>j_d_v</th>\n",
       "      <th>c_t_Contract</th>\n",
       "      <th>c_t_Permanent</th>\n",
       "      <th>c_t_Temporary</th>\n",
       "      <th>d_w_fulltime</th>\n",
       "      <th>d_w_parttime</th>\n",
       "    </tr>\n",
       "  </thead>\n",
       "  <tbody>\n",
       "    <tr>\n",
       "      <th>0</th>\n",
       "      <td>catering</td>\n",
       "      <td>£18,323 per annum</td>\n",
       "      <td>Devon</td>\n",
       "      <td>5</td>\n",
       "      <td>0</td>\n",
       "      <td>1</td>\n",
       "      <td>0</td>\n",
       "      <td>1</td>\n",
       "      <td>0</td>\n",
       "    </tr>\n",
       "    <tr>\n",
       "      <th>1</th>\n",
       "      <td>law</td>\n",
       "      <td>£18,000 - £22,000 per annum</td>\n",
       "      <td>Wiltshire</td>\n",
       "      <td>9</td>\n",
       "      <td>0</td>\n",
       "      <td>1</td>\n",
       "      <td>0</td>\n",
       "      <td>1</td>\n",
       "      <td>0</td>\n",
       "    </tr>\n",
       "    <tr>\n",
       "      <th>2</th>\n",
       "      <td>law</td>\n",
       "      <td>£15,000 - £17,000 per annum, pro-rata</td>\n",
       "      <td>West Sussex</td>\n",
       "      <td>2</td>\n",
       "      <td>0</td>\n",
       "      <td>1</td>\n",
       "      <td>0</td>\n",
       "      <td>1</td>\n",
       "      <td>1</td>\n",
       "    </tr>\n",
       "    <tr>\n",
       "      <th>3</th>\n",
       "      <td>factory</td>\n",
       "      <td>£37,000 - £45,000 per annum</td>\n",
       "      <td>South East England</td>\n",
       "      <td>6</td>\n",
       "      <td>0</td>\n",
       "      <td>1</td>\n",
       "      <td>0</td>\n",
       "      <td>1</td>\n",
       "      <td>0</td>\n",
       "    </tr>\n",
       "    <tr>\n",
       "      <th>4</th>\n",
       "      <td>retail</td>\n",
       "      <td>£9,100 - £9,152 per annum, OTE</td>\n",
       "      <td>County Antrim</td>\n",
       "      <td>9</td>\n",
       "      <td>0</td>\n",
       "      <td>1</td>\n",
       "      <td>0</td>\n",
       "      <td>0</td>\n",
       "      <td>1</td>\n",
       "    </tr>\n",
       "  </tbody>\n",
       "</table>\n",
       "</div>"
      ],
      "text/plain": [
       "   category                         salary_offered               state  j_d_v  \\\n",
       "0  catering                      £18,323 per annum               Devon      5   \n",
       "1       law            £18,000 - £22,000 per annum           Wiltshire      9   \n",
       "2       law  £15,000 - £17,000 per annum, pro-rata         West Sussex      2   \n",
       "3   factory            £37,000 - £45,000 per annum  South East England      6   \n",
       "4    retail         £9,100 - £9,152 per annum, OTE       County Antrim      9   \n",
       "\n",
       "   c_t_Contract  c_t_Permanent  c_t_Temporary  d_w_fulltime  d_w_parttime  \n",
       "0             0              1              0             1             0  \n",
       "1             0              1              0             1             0  \n",
       "2             0              1              0             1             1  \n",
       "3             0              1              0             1             0  \n",
       "4             0              1              0             0             1  "
      ]
     },
     "execution_count": 23,
     "metadata": {},
     "output_type": "execute_result"
    }
   ],
   "source": [
    "data = data.dropna(subset=['salary_offered']).reset_index(drop=True)\n",
    "data.head()"
   ]
  },
  {
   "cell_type": "markdown",
   "metadata": {},
   "source": [
    "We eliminate \"up to\" and \"from\" in the salary offers for the regex cleaning.\n",
    "And we delete the rows containing \"‚¬\" as currency character"
   ]
  },
  {
   "cell_type": "code",
   "execution_count": 24,
   "metadata": {},
   "outputs": [],
   "source": [
    "data['salary_offered'] = data['salary_offered'].replace('up to ', '', regex=True).replace('from ', '', regex=True)"
   ]
  },
  {
   "cell_type": "code",
   "execution_count": 25,
   "metadata": {},
   "outputs": [
    {
     "data": {
      "text/plain": [
       "125"
      ]
     },
     "execution_count": 25,
     "metadata": {},
     "output_type": "execute_result"
    }
   ],
   "source": [
    "len(data['salary_offered'][data['salary_offered'].str.contains('¬')])"
   ]
  },
  {
   "cell_type": "code",
   "execution_count": 26,
   "metadata": {},
   "outputs": [],
   "source": [
    "data = data[np.logical_not(data['salary_offered'].str.contains('¬'))].reset_index(drop=True)"
   ]
  },
  {
   "cell_type": "markdown",
   "metadata": {},
   "source": [
    "We define temporary columns where we save the currency and amount of the salaries"
   ]
  },
  {
   "cell_type": "code",
   "execution_count": 27,
   "metadata": {},
   "outputs": [
    {
     "data": {
      "text/html": [
       "<div>\n",
       "<style scoped>\n",
       "    .dataframe tbody tr th:only-of-type {\n",
       "        vertical-align: middle;\n",
       "    }\n",
       "\n",
       "    .dataframe tbody tr th {\n",
       "        vertical-align: top;\n",
       "    }\n",
       "\n",
       "    .dataframe thead th {\n",
       "        text-align: right;\n",
       "    }\n",
       "</style>\n",
       "<table border=\"1\" class=\"dataframe\">\n",
       "  <thead>\n",
       "    <tr style=\"text-align: right;\">\n",
       "      <th></th>\n",
       "      <th>category</th>\n",
       "      <th>salary_offered</th>\n",
       "      <th>state</th>\n",
       "      <th>j_d_v</th>\n",
       "      <th>c_t_Contract</th>\n",
       "      <th>c_t_Permanent</th>\n",
       "      <th>c_t_Temporary</th>\n",
       "      <th>d_w_fulltime</th>\n",
       "      <th>d_w_parttime</th>\n",
       "      <th>temp_min_sal</th>\n",
       "      <th>temp_max_sal</th>\n",
       "    </tr>\n",
       "  </thead>\n",
       "  <tbody>\n",
       "    <tr>\n",
       "      <th>0</th>\n",
       "      <td>catering</td>\n",
       "      <td>£18,323 per annum</td>\n",
       "      <td>Devon</td>\n",
       "      <td>5</td>\n",
       "      <td>0</td>\n",
       "      <td>1</td>\n",
       "      <td>0</td>\n",
       "      <td>1</td>\n",
       "      <td>0</td>\n",
       "      <td>(£, 18,323)</td>\n",
       "      <td>NaN</td>\n",
       "    </tr>\n",
       "    <tr>\n",
       "      <th>1</th>\n",
       "      <td>law</td>\n",
       "      <td>£18,000 - £22,000 per annum</td>\n",
       "      <td>Wiltshire</td>\n",
       "      <td>9</td>\n",
       "      <td>0</td>\n",
       "      <td>1</td>\n",
       "      <td>0</td>\n",
       "      <td>1</td>\n",
       "      <td>0</td>\n",
       "      <td>(£, 18,000)</td>\n",
       "      <td>(£, 22,000)</td>\n",
       "    </tr>\n",
       "    <tr>\n",
       "      <th>2</th>\n",
       "      <td>law</td>\n",
       "      <td>£15,000 - £17,000 per annum, pro-rata</td>\n",
       "      <td>West Sussex</td>\n",
       "      <td>2</td>\n",
       "      <td>0</td>\n",
       "      <td>1</td>\n",
       "      <td>0</td>\n",
       "      <td>1</td>\n",
       "      <td>1</td>\n",
       "      <td>(£, 15,000)</td>\n",
       "      <td>(£, 17,000)</td>\n",
       "    </tr>\n",
       "    <tr>\n",
       "      <th>3</th>\n",
       "      <td>factory</td>\n",
       "      <td>£37,000 - £45,000 per annum</td>\n",
       "      <td>South East England</td>\n",
       "      <td>6</td>\n",
       "      <td>0</td>\n",
       "      <td>1</td>\n",
       "      <td>0</td>\n",
       "      <td>1</td>\n",
       "      <td>0</td>\n",
       "      <td>(£, 37,000)</td>\n",
       "      <td>(£, 45,000)</td>\n",
       "    </tr>\n",
       "    <tr>\n",
       "      <th>4</th>\n",
       "      <td>retail</td>\n",
       "      <td>£9,100 - £9,152 per annum, OTE</td>\n",
       "      <td>County Antrim</td>\n",
       "      <td>9</td>\n",
       "      <td>0</td>\n",
       "      <td>1</td>\n",
       "      <td>0</td>\n",
       "      <td>0</td>\n",
       "      <td>1</td>\n",
       "      <td>(£, 9,100)</td>\n",
       "      <td>(£, 9,152)</td>\n",
       "    </tr>\n",
       "  </tbody>\n",
       "</table>\n",
       "</div>"
      ],
      "text/plain": [
       "   category                         salary_offered               state  j_d_v  \\\n",
       "0  catering                      £18,323 per annum               Devon      5   \n",
       "1       law            £18,000 - £22,000 per annum           Wiltshire      9   \n",
       "2       law  £15,000 - £17,000 per annum, pro-rata         West Sussex      2   \n",
       "3   factory            £37,000 - £45,000 per annum  South East England      6   \n",
       "4    retail         £9,100 - £9,152 per annum, OTE       County Antrim      9   \n",
       "\n",
       "   c_t_Contract  c_t_Permanent  c_t_Temporary  d_w_fulltime  d_w_parttime  \\\n",
       "0             0              1              0             1             0   \n",
       "1             0              1              0             1             0   \n",
       "2             0              1              0             1             1   \n",
       "3             0              1              0             1             0   \n",
       "4             0              1              0             0             1   \n",
       "\n",
       "  temp_min_sal temp_max_sal  \n",
       "0  (£, 18,323)          NaN  \n",
       "1  (£, 18,000)  (£, 22,000)  \n",
       "2  (£, 15,000)  (£, 17,000)  \n",
       "3  (£, 37,000)  (£, 45,000)  \n",
       "4   (£, 9,100)   (£, 9,152)  "
      ]
     },
     "execution_count": 27,
     "metadata": {},
     "output_type": "execute_result"
    }
   ],
   "source": [
    "min_sal_re = re.compile(r'^(?P<curr1>[^0-9- ]{1,4})(?P<money1>[0-9,.]+)')\n",
    "data['temp_min_sal'] = data['salary_offered'].map(\n",
    "    lambda x: min_sal_re.search(x).group('curr1', 'money1') if min_sal_re.search(x) else 'Error'\n",
    ")\n",
    "\n",
    "max_sal_re = re.compile(r'- (?P<curr2>[^0-9- ]{1,4})(?P<money2>[0-9,.]+)')\n",
    "data['temp_max_sal'] = data['salary_offered'].map(\n",
    "    lambda x: max_sal_re.search(x).group('curr2', 'money2') if max_sal_re.search(x) else np.nan\n",
    ")\n",
    "data.head()"
   ]
  },
  {
   "cell_type": "markdown",
   "metadata": {},
   "source": [
    "We confirm we got at least al minimum, the offers that only have one value are saven in the minimum."
   ]
  },
  {
   "cell_type": "code",
   "execution_count": 28,
   "metadata": {},
   "outputs": [
    {
     "data": {
      "text/plain": [
       "Series([], Name: temp_min_sal, dtype: object)"
      ]
     },
     "execution_count": 28,
     "metadata": {},
     "output_type": "execute_result"
    }
   ],
   "source": [
    "data['temp_min_sal'][data['temp_min_sal'] == 'Error']"
   ]
  },
  {
   "cell_type": "markdown",
   "metadata": {},
   "source": [
    "Confirmation that there are not empty string in minimum salary"
   ]
  },
  {
   "cell_type": "code",
   "execution_count": 29,
   "metadata": {},
   "outputs": [
    {
     "data": {
      "text/plain": [
       "Series([], Name: temp_min_sal, dtype: object)"
      ]
     },
     "execution_count": 29,
     "metadata": {},
     "output_type": "execute_result"
    }
   ],
   "source": [
    "temp = data['temp_min_sal'].map(lambda x: x[1])\n",
    "(temp[temp==''])"
   ]
  },
  {
   "cell_type": "code",
   "execution_count": 30,
   "metadata": {},
   "outputs": [
    {
     "data": {
      "text/html": [
       "<div>\n",
       "<style scoped>\n",
       "    .dataframe tbody tr th:only-of-type {\n",
       "        vertical-align: middle;\n",
       "    }\n",
       "\n",
       "    .dataframe tbody tr th {\n",
       "        vertical-align: top;\n",
       "    }\n",
       "\n",
       "    .dataframe thead th {\n",
       "        text-align: right;\n",
       "    }\n",
       "</style>\n",
       "<table border=\"1\" class=\"dataframe\">\n",
       "  <thead>\n",
       "    <tr style=\"text-align: right;\">\n",
       "      <th></th>\n",
       "      <th>category</th>\n",
       "      <th>salary_offered</th>\n",
       "      <th>state</th>\n",
       "      <th>j_d_v</th>\n",
       "      <th>c_t_Contract</th>\n",
       "      <th>c_t_Permanent</th>\n",
       "      <th>c_t_Temporary</th>\n",
       "      <th>d_w_fulltime</th>\n",
       "      <th>d_w_parttime</th>\n",
       "      <th>curr_salary</th>\n",
       "      <th>min_salary</th>\n",
       "      <th>max_salary</th>\n",
       "    </tr>\n",
       "  </thead>\n",
       "  <tbody>\n",
       "    <tr>\n",
       "      <th>0</th>\n",
       "      <td>catering</td>\n",
       "      <td>£18,323 per annum</td>\n",
       "      <td>Devon</td>\n",
       "      <td>5</td>\n",
       "      <td>0</td>\n",
       "      <td>1</td>\n",
       "      <td>0</td>\n",
       "      <td>1</td>\n",
       "      <td>0</td>\n",
       "      <td>£</td>\n",
       "      <td>18323.0</td>\n",
       "      <td>18323.0</td>\n",
       "    </tr>\n",
       "    <tr>\n",
       "      <th>1</th>\n",
       "      <td>law</td>\n",
       "      <td>£18,000 - £22,000 per annum</td>\n",
       "      <td>Wiltshire</td>\n",
       "      <td>9</td>\n",
       "      <td>0</td>\n",
       "      <td>1</td>\n",
       "      <td>0</td>\n",
       "      <td>1</td>\n",
       "      <td>0</td>\n",
       "      <td>£</td>\n",
       "      <td>18000.0</td>\n",
       "      <td>22000.0</td>\n",
       "    </tr>\n",
       "    <tr>\n",
       "      <th>2</th>\n",
       "      <td>law</td>\n",
       "      <td>£15,000 - £17,000 per annum, pro-rata</td>\n",
       "      <td>West Sussex</td>\n",
       "      <td>2</td>\n",
       "      <td>0</td>\n",
       "      <td>1</td>\n",
       "      <td>0</td>\n",
       "      <td>1</td>\n",
       "      <td>1</td>\n",
       "      <td>£</td>\n",
       "      <td>15000.0</td>\n",
       "      <td>17000.0</td>\n",
       "    </tr>\n",
       "    <tr>\n",
       "      <th>3</th>\n",
       "      <td>factory</td>\n",
       "      <td>£37,000 - £45,000 per annum</td>\n",
       "      <td>South East England</td>\n",
       "      <td>6</td>\n",
       "      <td>0</td>\n",
       "      <td>1</td>\n",
       "      <td>0</td>\n",
       "      <td>1</td>\n",
       "      <td>0</td>\n",
       "      <td>£</td>\n",
       "      <td>37000.0</td>\n",
       "      <td>45000.0</td>\n",
       "    </tr>\n",
       "    <tr>\n",
       "      <th>4</th>\n",
       "      <td>retail</td>\n",
       "      <td>£9,100 - £9,152 per annum, OTE</td>\n",
       "      <td>County Antrim</td>\n",
       "      <td>9</td>\n",
       "      <td>0</td>\n",
       "      <td>1</td>\n",
       "      <td>0</td>\n",
       "      <td>0</td>\n",
       "      <td>1</td>\n",
       "      <td>£</td>\n",
       "      <td>9100.0</td>\n",
       "      <td>9152.0</td>\n",
       "    </tr>\n",
       "  </tbody>\n",
       "</table>\n",
       "</div>"
      ],
      "text/plain": [
       "   category                         salary_offered               state  j_d_v  \\\n",
       "0  catering                      £18,323 per annum               Devon      5   \n",
       "1       law            £18,000 - £22,000 per annum           Wiltshire      9   \n",
       "2       law  £15,000 - £17,000 per annum, pro-rata         West Sussex      2   \n",
       "3   factory            £37,000 - £45,000 per annum  South East England      6   \n",
       "4    retail         £9,100 - £9,152 per annum, OTE       County Antrim      9   \n",
       "\n",
       "   c_t_Contract  c_t_Permanent  c_t_Temporary  d_w_fulltime  d_w_parttime  \\\n",
       "0             0              1              0             1             0   \n",
       "1             0              1              0             1             0   \n",
       "2             0              1              0             1             1   \n",
       "3             0              1              0             1             0   \n",
       "4             0              1              0             0             1   \n",
       "\n",
       "  curr_salary  min_salary  max_salary  \n",
       "0           £     18323.0     18323.0  \n",
       "1           £     18000.0     22000.0  \n",
       "2           £     15000.0     17000.0  \n",
       "3           £     37000.0     45000.0  \n",
       "4           £      9100.0      9152.0  "
      ]
     },
     "execution_count": 30,
     "metadata": {},
     "output_type": "execute_result"
    }
   ],
   "source": [
    "data['curr_salary'] = data['temp_min_sal'].map(lambda x: x[0])\n",
    "data['min_salary'] = data['temp_min_sal'].map(lambda x: x[1]).replace(',','', regex=True).astype(float)\n",
    "data['max_salary'] = data.apply(\n",
    "    lambda x: x['temp_max_sal'][1] if isinstance(x['temp_max_sal'], tuple) else x['min_salary'],\n",
    "    axis=1\n",
    ").replace(',','', regex=True).astype(float)\n",
    "data = data.drop(columns=['temp_min_sal', 'temp_max_sal'])\n",
    "data.head()"
   ]
  },
  {
   "cell_type": "markdown",
   "metadata": {},
   "source": [
    "Now we define if the salaries are per year, per day or per hour, to standirize per hour."
   ]
  },
  {
   "cell_type": "code",
   "execution_count": 31,
   "metadata": {},
   "outputs": [
    {
     "data": {
      "text/html": [
       "<div>\n",
       "<style scoped>\n",
       "    .dataframe tbody tr th:only-of-type {\n",
       "        vertical-align: middle;\n",
       "    }\n",
       "\n",
       "    .dataframe tbody tr th {\n",
       "        vertical-align: top;\n",
       "    }\n",
       "\n",
       "    .dataframe thead th {\n",
       "        text-align: right;\n",
       "    }\n",
       "</style>\n",
       "<table border=\"1\" class=\"dataframe\">\n",
       "  <thead>\n",
       "    <tr style=\"text-align: right;\">\n",
       "      <th></th>\n",
       "      <th>category</th>\n",
       "      <th>salary_offered</th>\n",
       "      <th>state</th>\n",
       "      <th>j_d_v</th>\n",
       "      <th>c_t_Contract</th>\n",
       "      <th>c_t_Permanent</th>\n",
       "      <th>c_t_Temporary</th>\n",
       "      <th>d_w_fulltime</th>\n",
       "      <th>d_w_parttime</th>\n",
       "      <th>curr_salary</th>\n",
       "      <th>min_salary</th>\n",
       "      <th>max_salary</th>\n",
       "      <th>salary_period</th>\n",
       "    </tr>\n",
       "  </thead>\n",
       "  <tbody>\n",
       "    <tr>\n",
       "      <th>0</th>\n",
       "      <td>catering</td>\n",
       "      <td>£18,323 per annum</td>\n",
       "      <td>Devon</td>\n",
       "      <td>5</td>\n",
       "      <td>0</td>\n",
       "      <td>1</td>\n",
       "      <td>0</td>\n",
       "      <td>1</td>\n",
       "      <td>0</td>\n",
       "      <td>£</td>\n",
       "      <td>18323.0</td>\n",
       "      <td>18323.0</td>\n",
       "      <td>year</td>\n",
       "    </tr>\n",
       "    <tr>\n",
       "      <th>1</th>\n",
       "      <td>law</td>\n",
       "      <td>£18,000 - £22,000 per annum</td>\n",
       "      <td>Wiltshire</td>\n",
       "      <td>9</td>\n",
       "      <td>0</td>\n",
       "      <td>1</td>\n",
       "      <td>0</td>\n",
       "      <td>1</td>\n",
       "      <td>0</td>\n",
       "      <td>£</td>\n",
       "      <td>18000.0</td>\n",
       "      <td>22000.0</td>\n",
       "      <td>year</td>\n",
       "    </tr>\n",
       "    <tr>\n",
       "      <th>2</th>\n",
       "      <td>law</td>\n",
       "      <td>£15,000 - £17,000 per annum, pro-rata</td>\n",
       "      <td>West Sussex</td>\n",
       "      <td>2</td>\n",
       "      <td>0</td>\n",
       "      <td>1</td>\n",
       "      <td>0</td>\n",
       "      <td>1</td>\n",
       "      <td>1</td>\n",
       "      <td>£</td>\n",
       "      <td>15000.0</td>\n",
       "      <td>17000.0</td>\n",
       "      <td>year</td>\n",
       "    </tr>\n",
       "    <tr>\n",
       "      <th>3</th>\n",
       "      <td>factory</td>\n",
       "      <td>£37,000 - £45,000 per annum</td>\n",
       "      <td>South East England</td>\n",
       "      <td>6</td>\n",
       "      <td>0</td>\n",
       "      <td>1</td>\n",
       "      <td>0</td>\n",
       "      <td>1</td>\n",
       "      <td>0</td>\n",
       "      <td>£</td>\n",
       "      <td>37000.0</td>\n",
       "      <td>45000.0</td>\n",
       "      <td>year</td>\n",
       "    </tr>\n",
       "    <tr>\n",
       "      <th>4</th>\n",
       "      <td>retail</td>\n",
       "      <td>£9,100 - £9,152 per annum, OTE</td>\n",
       "      <td>County Antrim</td>\n",
       "      <td>9</td>\n",
       "      <td>0</td>\n",
       "      <td>1</td>\n",
       "      <td>0</td>\n",
       "      <td>0</td>\n",
       "      <td>1</td>\n",
       "      <td>£</td>\n",
       "      <td>9100.0</td>\n",
       "      <td>9152.0</td>\n",
       "      <td>year</td>\n",
       "    </tr>\n",
       "  </tbody>\n",
       "</table>\n",
       "</div>"
      ],
      "text/plain": [
       "   category                         salary_offered               state  j_d_v  \\\n",
       "0  catering                      £18,323 per annum               Devon      5   \n",
       "1       law            £18,000 - £22,000 per annum           Wiltshire      9   \n",
       "2       law  £15,000 - £17,000 per annum, pro-rata         West Sussex      2   \n",
       "3   factory            £37,000 - £45,000 per annum  South East England      6   \n",
       "4    retail         £9,100 - £9,152 per annum, OTE       County Antrim      9   \n",
       "\n",
       "   c_t_Contract  c_t_Permanent  c_t_Temporary  d_w_fulltime  d_w_parttime  \\\n",
       "0             0              1              0             1             0   \n",
       "1             0              1              0             1             0   \n",
       "2             0              1              0             1             1   \n",
       "3             0              1              0             1             0   \n",
       "4             0              1              0             0             1   \n",
       "\n",
       "  curr_salary  min_salary  max_salary salary_period  \n",
       "0           £     18323.0     18323.0          year  \n",
       "1           £     18000.0     22000.0          year  \n",
       "2           £     15000.0     17000.0          year  \n",
       "3           £     37000.0     45000.0          year  \n",
       "4           £      9100.0      9152.0          year  "
      ]
     },
     "execution_count": 31,
     "metadata": {},
     "output_type": "execute_result"
    }
   ],
   "source": [
    "def salary_period(x):\n",
    "    if re.search('per annum', x):\n",
    "        return 'year'\n",
    "    if re.search('per day', x):\n",
    "        return 'day'\n",
    "    if re.search('per hour', x):\n",
    "        return 'hour'\n",
    "    return None\n",
    "data['salary_period'] = data['salary_offered'].map(salary_period)\n",
    "data.head()"
   ]
  },
  {
   "cell_type": "markdown",
   "metadata": {},
   "source": [
    "Confirm not null values in *salary_period*"
   ]
  },
  {
   "cell_type": "code",
   "execution_count": 32,
   "metadata": {},
   "outputs": [
    {
     "data": {
      "text/plain": [
       "0"
      ]
     },
     "execution_count": 32,
     "metadata": {},
     "output_type": "execute_result"
    }
   ],
   "source": [
    "len(data['salary_period'][pd.isnull(data['salary_period'])])"
   ]
  },
  {
   "cell_type": "markdown",
   "metadata": {},
   "source": [
    "Finally we are going to define our maximum and minimum salary in pounds per hour."
   ]
  },
  {
   "cell_type": "code",
   "execution_count": 33,
   "metadata": {},
   "outputs": [],
   "source": [
    "# currencies exchange_rates\n",
    "cur_er = {\n",
    "    '£': 1,\n",
    "    'USD$':1.38,\n",
    "    'AUD$':1.79\n",
    "}\n",
    "# time periods\n",
    "time_pr = {\n",
    "    'hour': 1,\n",
    "    'day':1/8,\n",
    "    'year': 1/(255*8) # 255 working days in the year * hours per working day\n",
    "}\n",
    "# based in https://hello-safe.co.uk/business-insurance/tools/working-days-calculator\n",
    "    "
   ]
  },
  {
   "cell_type": "code",
   "execution_count": 34,
   "metadata": {},
   "outputs": [
    {
     "data": {
      "text/html": [
       "<div>\n",
       "<style scoped>\n",
       "    .dataframe tbody tr th:only-of-type {\n",
       "        vertical-align: middle;\n",
       "    }\n",
       "\n",
       "    .dataframe tbody tr th {\n",
       "        vertical-align: top;\n",
       "    }\n",
       "\n",
       "    .dataframe thead th {\n",
       "        text-align: right;\n",
       "    }\n",
       "</style>\n",
       "<table border=\"1\" class=\"dataframe\">\n",
       "  <thead>\n",
       "    <tr style=\"text-align: right;\">\n",
       "      <th></th>\n",
       "      <th>category</th>\n",
       "      <th>salary_offered</th>\n",
       "      <th>state</th>\n",
       "      <th>j_d_v</th>\n",
       "      <th>c_t_Contract</th>\n",
       "      <th>c_t_Permanent</th>\n",
       "      <th>c_t_Temporary</th>\n",
       "      <th>d_w_fulltime</th>\n",
       "      <th>d_w_parttime</th>\n",
       "      <th>curr_salary</th>\n",
       "      <th>min_salary</th>\n",
       "      <th>max_salary</th>\n",
       "      <th>salary_period</th>\n",
       "    </tr>\n",
       "  </thead>\n",
       "  <tbody>\n",
       "    <tr>\n",
       "      <th>0</th>\n",
       "      <td>catering</td>\n",
       "      <td>£18,323 per annum</td>\n",
       "      <td>Devon</td>\n",
       "      <td>5</td>\n",
       "      <td>0</td>\n",
       "      <td>1</td>\n",
       "      <td>0</td>\n",
       "      <td>1</td>\n",
       "      <td>0</td>\n",
       "      <td>£</td>\n",
       "      <td>8.981863</td>\n",
       "      <td>8.981863</td>\n",
       "      <td>year</td>\n",
       "    </tr>\n",
       "    <tr>\n",
       "      <th>1</th>\n",
       "      <td>law</td>\n",
       "      <td>£18,000 - £22,000 per annum</td>\n",
       "      <td>Wiltshire</td>\n",
       "      <td>9</td>\n",
       "      <td>0</td>\n",
       "      <td>1</td>\n",
       "      <td>0</td>\n",
       "      <td>1</td>\n",
       "      <td>0</td>\n",
       "      <td>£</td>\n",
       "      <td>8.823529</td>\n",
       "      <td>10.784314</td>\n",
       "      <td>year</td>\n",
       "    </tr>\n",
       "    <tr>\n",
       "      <th>2</th>\n",
       "      <td>law</td>\n",
       "      <td>£15,000 - £17,000 per annum, pro-rata</td>\n",
       "      <td>West Sussex</td>\n",
       "      <td>2</td>\n",
       "      <td>0</td>\n",
       "      <td>1</td>\n",
       "      <td>0</td>\n",
       "      <td>1</td>\n",
       "      <td>1</td>\n",
       "      <td>£</td>\n",
       "      <td>7.352941</td>\n",
       "      <td>8.333333</td>\n",
       "      <td>year</td>\n",
       "    </tr>\n",
       "    <tr>\n",
       "      <th>3</th>\n",
       "      <td>factory</td>\n",
       "      <td>£37,000 - £45,000 per annum</td>\n",
       "      <td>South East England</td>\n",
       "      <td>6</td>\n",
       "      <td>0</td>\n",
       "      <td>1</td>\n",
       "      <td>0</td>\n",
       "      <td>1</td>\n",
       "      <td>0</td>\n",
       "      <td>£</td>\n",
       "      <td>18.137255</td>\n",
       "      <td>22.058824</td>\n",
       "      <td>year</td>\n",
       "    </tr>\n",
       "    <tr>\n",
       "      <th>4</th>\n",
       "      <td>retail</td>\n",
       "      <td>£9,100 - £9,152 per annum, OTE</td>\n",
       "      <td>County Antrim</td>\n",
       "      <td>9</td>\n",
       "      <td>0</td>\n",
       "      <td>1</td>\n",
       "      <td>0</td>\n",
       "      <td>0</td>\n",
       "      <td>1</td>\n",
       "      <td>£</td>\n",
       "      <td>4.460784</td>\n",
       "      <td>4.486275</td>\n",
       "      <td>year</td>\n",
       "    </tr>\n",
       "  </tbody>\n",
       "</table>\n",
       "</div>"
      ],
      "text/plain": [
       "   category                         salary_offered               state  j_d_v  \\\n",
       "0  catering                      £18,323 per annum               Devon      5   \n",
       "1       law            £18,000 - £22,000 per annum           Wiltshire      9   \n",
       "2       law  £15,000 - £17,000 per annum, pro-rata         West Sussex      2   \n",
       "3   factory            £37,000 - £45,000 per annum  South East England      6   \n",
       "4    retail         £9,100 - £9,152 per annum, OTE       County Antrim      9   \n",
       "\n",
       "   c_t_Contract  c_t_Permanent  c_t_Temporary  d_w_fulltime  d_w_parttime  \\\n",
       "0             0              1              0             1             0   \n",
       "1             0              1              0             1             0   \n",
       "2             0              1              0             1             1   \n",
       "3             0              1              0             1             0   \n",
       "4             0              1              0             0             1   \n",
       "\n",
       "  curr_salary  min_salary  max_salary salary_period  \n",
       "0           £    8.981863    8.981863          year  \n",
       "1           £    8.823529   10.784314          year  \n",
       "2           £    7.352941    8.333333          year  \n",
       "3           £   18.137255   22.058824          year  \n",
       "4           £    4.460784    4.486275          year  "
      ]
     },
     "execution_count": 34,
     "metadata": {},
     "output_type": "execute_result"
    }
   ],
   "source": [
    "data['max_salary'] = data.apply(\n",
    "    lambda x: x['max_salary']*cur_er[x['curr_salary']]*time_pr[x['salary_period']],\n",
    "    axis=1\n",
    ")\n",
    "data['min_salary'] = data.apply(\n",
    "    lambda x: x['min_salary']*cur_er[x['curr_salary']]*time_pr[x['salary_period']],\n",
    "    axis=1\n",
    ")\n",
    "data.head()"
   ]
  },
  {
   "cell_type": "markdown",
   "metadata": {},
   "source": [
    "We use a boxplot diagram to find outliers.\n"
   ]
  },
  {
   "cell_type": "code",
   "execution_count": 35,
   "metadata": {},
   "outputs": [
    {
     "data": {
      "image/png": "[encoded data removed]",
      "text/plain": [
       "<Figure size 3600x720 with 1 Axes>"
      ]
     },
     "metadata": {
      "needs_background": "light"
     },
     "output_type": "display_data"
    }
   ],
   "source": [
    "min_salaries_by_cat = [data['min_salary'][data['category']==x] for x in data['category'].drop_duplicates()]\n",
    "bp_sal, ax_bp_sal = plt.subplots(figsize=(50,10))\n",
    "\n",
    "bp = ax_bp_sal.boxplot(min_salaries_by_cat)\n",
    "ticks =plt.xticks([x for x in range(len(data['category'].drop_duplicates()))], data['category'].drop_duplicates())"
   ]
  },
  {
   "cell_type": "markdown",
   "metadata": {},
   "source": [
    "Fist we drop everything over 500 per hour."
   ]
  },
  {
   "cell_type": "code",
   "execution_count": 36,
   "metadata": {},
   "outputs": [],
   "source": [
    "data = data[data['min_salary']<500].reset_index(drop=True)"
   ]
  },
  {
   "cell_type": "code",
   "execution_count": 37,
   "metadata": {},
   "outputs": [
    {
     "data": {
      "image/png": "[encoded data removed]",
      "text/plain": [
       "<Figure size 3600x720 with 1 Axes>"
      ]
     },
     "metadata": {
      "needs_background": "light"
     },
     "output_type": "display_data"
    }
   ],
   "source": [
    "min_salaries_by_cat = [data['min_salary'][data['category']==x] for x in data['category'].drop_duplicates()]\n",
    "bp_sal, ax_bp_sal = plt.subplots(figsize=(50,10))\n",
    "\n",
    "bp = ax_bp_sal.boxplot(min_salaries_by_cat)\n",
    "ticks =plt.xticks([x for x in range(len(data['category'].drop_duplicates()))], data['category'].drop_duplicates())"
   ]
  },
  {
   "cell_type": "code",
   "execution_count": 38,
   "metadata": {},
   "outputs": [],
   "source": [
    "data = data[data['min_salary']<100].reset_index(drop=True)"
   ]
  },
  {
   "cell_type": "code",
   "execution_count": 39,
   "metadata": {},
   "outputs": [
    {
     "data": {
      "image/png": "[encoded data removed]",
      "text/plain": [
       "<Figure size 3600x720 with 1 Axes>"
      ]
     },
     "metadata": {
      "needs_background": "light"
     },
     "output_type": "display_data"
    }
   ],
   "source": [
    "min_salaries_by_cat = [data['min_salary'][data['category']==x] for x in data['category'].drop_duplicates()]\n",
    "bp_sal, ax_bp_sal = plt.subplots(figsize=(50,10))\n",
    "\n",
    "bp = ax_bp_sal.boxplot(min_salaries_by_cat)\n",
    "ticks =plt.xticks([x for x in range(len(data['category'].drop_duplicates()))], data['category'].drop_duplicates())"
   ]
  },
  {
   "cell_type": "markdown",
   "metadata": {},
   "source": [
    "No we see if the max salaries have outliers"
   ]
  },
  {
   "cell_type": "code",
   "execution_count": 40,
   "metadata": {},
   "outputs": [
    {
     "data": {
      "image/png": "[encoded data removed]",
      "text/plain": [
       "<Figure size 3600x720 with 1 Axes>"
      ]
     },
     "metadata": {
      "needs_background": "light"
     },
     "output_type": "display_data"
    }
   ],
   "source": [
    "max_salaries_by_cat = [data['max_salary'][data['category']==x] for x in data['category'].drop_duplicates()]\n",
    "bp_sal, ax_bp_sal = plt.subplots(figsize=(50,10))\n",
    "\n",
    "bp = ax_bp_sal.boxplot(max_salaries_by_cat)\n",
    "ticks =plt.xticks([x for x in range(len(data['category'].drop_duplicates()))], data['category'].drop_duplicates())"
   ]
  },
  {
   "cell_type": "markdown",
   "metadata": {},
   "source": [
    "We can see we have some values that may be outliers, let's see some of them to understand what is happening."
   ]
  },
  {
   "cell_type": "code",
   "execution_count": 41,
   "metadata": {},
   "outputs": [
    {
     "data": {
      "text/plain": [
       "27"
      ]
     },
     "execution_count": 41,
     "metadata": {},
     "output_type": "execute_result"
    }
   ],
   "source": [
    "len(data[data['max_salary'] >= 150])"
   ]
  },
  {
   "cell_type": "markdown",
   "metadata": {},
   "source": [
    "We conclude that they are errors made in the input of the data, we proceed to drop them."
   ]
  },
  {
   "cell_type": "code",
   "execution_count": 42,
   "metadata": {},
   "outputs": [],
   "source": [
    "data = data[data['max_salary']<150].reset_index(drop=True)"
   ]
  },
  {
   "cell_type": "code",
   "execution_count": 43,
   "metadata": {},
   "outputs": [
    {
     "data": {
      "image/png": "[encoded data removed]",
      "text/plain": [
       "<Figure size 3600x720 with 1 Axes>"
      ]
     },
     "metadata": {
      "needs_background": "light"
     },
     "output_type": "display_data"
    }
   ],
   "source": [
    "max_salaries_by_cat = [data['max_salary'][data['category']==x] for x in data['category'].drop_duplicates()]\n",
    "bp_sal, ax_bp_sal = plt.subplots(figsize=(50,10))\n",
    "# ax_bp_sal.xlabel(data['category'].drop_duplicates())\n",
    "\n",
    "bp = ax_bp_sal.boxplot(max_salaries_by_cat)\n",
    "ticks =plt.xticks([x for x in range(len(data['category'].drop_duplicates()))], data['category'].drop_duplicates())"
   ]
  },
  {
   "cell_type": "markdown",
   "metadata": {},
   "source": [
    "We dropped columns that we are not going to use anymore."
   ]
  },
  {
   "cell_type": "code",
   "execution_count": 44,
   "metadata": {},
   "outputs": [],
   "source": [
    "data = data.drop(columns=['curr_salary','salary_period','salary_offered'])"
   ]
  },
  {
   "cell_type": "markdown",
   "metadata": {},
   "source": [
    "### Clean *state*, *category*, *j_d_v*\n",
    "\n",
    "Dummify variables for later use"
   ]
  },
  {
   "cell_type": "code",
   "execution_count": 45,
   "metadata": {},
   "outputs": [
    {
     "data": {
      "text/html": [
       "<div>\n",
       "<style scoped>\n",
       "    .dataframe tbody tr th:only-of-type {\n",
       "        vertical-align: middle;\n",
       "    }\n",
       "\n",
       "    .dataframe tbody tr th {\n",
       "        vertical-align: top;\n",
       "    }\n",
       "\n",
       "    .dataframe thead th {\n",
       "        text-align: right;\n",
       "    }\n",
       "</style>\n",
       "<table border=\"1\" class=\"dataframe\">\n",
       "  <thead>\n",
       "    <tr style=\"text-align: right;\">\n",
       "      <th></th>\n",
       "      <th>c_t_Contract</th>\n",
       "      <th>c_t_Permanent</th>\n",
       "      <th>c_t_Temporary</th>\n",
       "      <th>d_w_fulltime</th>\n",
       "      <th>d_w_parttime</th>\n",
       "      <th>min_salary</th>\n",
       "      <th>max_salary</th>\n",
       "      <th>state_Aberdeen</th>\n",
       "      <th>state_Aberdeenshire</th>\n",
       "      <th>state_Abu Dhabi</th>\n",
       "      <th>...</th>\n",
       "      <th>j_d_v_0</th>\n",
       "      <th>j_d_v_1</th>\n",
       "      <th>j_d_v_2</th>\n",
       "      <th>j_d_v_3</th>\n",
       "      <th>j_d_v_4</th>\n",
       "      <th>j_d_v_5</th>\n",
       "      <th>j_d_v_6</th>\n",
       "      <th>j_d_v_7</th>\n",
       "      <th>j_d_v_8</th>\n",
       "      <th>j_d_v_9</th>\n",
       "    </tr>\n",
       "  </thead>\n",
       "  <tbody>\n",
       "    <tr>\n",
       "      <th>0</th>\n",
       "      <td>0</td>\n",
       "      <td>1</td>\n",
       "      <td>0</td>\n",
       "      <td>1</td>\n",
       "      <td>0</td>\n",
       "      <td>8.981863</td>\n",
       "      <td>8.981863</td>\n",
       "      <td>0</td>\n",
       "      <td>0</td>\n",
       "      <td>0</td>\n",
       "      <td>...</td>\n",
       "      <td>0</td>\n",
       "      <td>0</td>\n",
       "      <td>0</td>\n",
       "      <td>0</td>\n",
       "      <td>0</td>\n",
       "      <td>1</td>\n",
       "      <td>0</td>\n",
       "      <td>0</td>\n",
       "      <td>0</td>\n",
       "      <td>0</td>\n",
       "    </tr>\n",
       "    <tr>\n",
       "      <th>1</th>\n",
       "      <td>0</td>\n",
       "      <td>1</td>\n",
       "      <td>0</td>\n",
       "      <td>1</td>\n",
       "      <td>0</td>\n",
       "      <td>8.823529</td>\n",
       "      <td>10.784314</td>\n",
       "      <td>0</td>\n",
       "      <td>0</td>\n",
       "      <td>0</td>\n",
       "      <td>...</td>\n",
       "      <td>0</td>\n",
       "      <td>0</td>\n",
       "      <td>0</td>\n",
       "      <td>0</td>\n",
       "      <td>0</td>\n",
       "      <td>0</td>\n",
       "      <td>0</td>\n",
       "      <td>0</td>\n",
       "      <td>0</td>\n",
       "      <td>1</td>\n",
       "    </tr>\n",
       "    <tr>\n",
       "      <th>2</th>\n",
       "      <td>0</td>\n",
       "      <td>1</td>\n",
       "      <td>0</td>\n",
       "      <td>1</td>\n",
       "      <td>1</td>\n",
       "      <td>7.352941</td>\n",
       "      <td>8.333333</td>\n",
       "      <td>0</td>\n",
       "      <td>0</td>\n",
       "      <td>0</td>\n",
       "      <td>...</td>\n",
       "      <td>0</td>\n",
       "      <td>0</td>\n",
       "      <td>1</td>\n",
       "      <td>0</td>\n",
       "      <td>0</td>\n",
       "      <td>0</td>\n",
       "      <td>0</td>\n",
       "      <td>0</td>\n",
       "      <td>0</td>\n",
       "      <td>0</td>\n",
       "    </tr>\n",
       "    <tr>\n",
       "      <th>3</th>\n",
       "      <td>0</td>\n",
       "      <td>1</td>\n",
       "      <td>0</td>\n",
       "      <td>1</td>\n",
       "      <td>0</td>\n",
       "      <td>18.137255</td>\n",
       "      <td>22.058824</td>\n",
       "      <td>0</td>\n",
       "      <td>0</td>\n",
       "      <td>0</td>\n",
       "      <td>...</td>\n",
       "      <td>0</td>\n",
       "      <td>0</td>\n",
       "      <td>0</td>\n",
       "      <td>0</td>\n",
       "      <td>0</td>\n",
       "      <td>0</td>\n",
       "      <td>1</td>\n",
       "      <td>0</td>\n",
       "      <td>0</td>\n",
       "      <td>0</td>\n",
       "    </tr>\n",
       "    <tr>\n",
       "      <th>4</th>\n",
       "      <td>0</td>\n",
       "      <td>1</td>\n",
       "      <td>0</td>\n",
       "      <td>0</td>\n",
       "      <td>1</td>\n",
       "      <td>4.460784</td>\n",
       "      <td>4.486275</td>\n",
       "      <td>0</td>\n",
       "      <td>0</td>\n",
       "      <td>0</td>\n",
       "      <td>...</td>\n",
       "      <td>0</td>\n",
       "      <td>0</td>\n",
       "      <td>0</td>\n",
       "      <td>0</td>\n",
       "      <td>0</td>\n",
       "      <td>0</td>\n",
       "      <td>0</td>\n",
       "      <td>0</td>\n",
       "      <td>0</td>\n",
       "      <td>1</td>\n",
       "    </tr>\n",
       "  </tbody>\n",
       "</table>\n",
       "<p>5 rows × 209 columns</p>\n",
       "</div>"
      ],
      "text/plain": [
       "   c_t_Contract  c_t_Permanent  c_t_Temporary  d_w_fulltime  d_w_parttime  \\\n",
       "0             0              1              0             1             0   \n",
       "1             0              1              0             1             0   \n",
       "2             0              1              0             1             1   \n",
       "3             0              1              0             1             0   \n",
       "4             0              1              0             0             1   \n",
       "\n",
       "   min_salary  max_salary  state_Aberdeen  state_Aberdeenshire  \\\n",
       "0    8.981863    8.981863               0                    0   \n",
       "1    8.823529   10.784314               0                    0   \n",
       "2    7.352941    8.333333               0                    0   \n",
       "3   18.137255   22.058824               0                    0   \n",
       "4    4.460784    4.486275               0                    0   \n",
       "\n",
       "   state_Abu Dhabi  ...  j_d_v_0  j_d_v_1  j_d_v_2  j_d_v_3  j_d_v_4  j_d_v_5  \\\n",
       "0                0  ...        0        0        0        0        0        1   \n",
       "1                0  ...        0        0        0        0        0        0   \n",
       "2                0  ...        0        0        1        0        0        0   \n",
       "3                0  ...        0        0        0        0        0        0   \n",
       "4                0  ...        0        0        0        0        0        0   \n",
       "\n",
       "   j_d_v_6  j_d_v_7  j_d_v_8  j_d_v_9  \n",
       "0        0        0        0        0  \n",
       "1        0        0        0        1  \n",
       "2        0        0        0        0  \n",
       "3        1        0        0        0  \n",
       "4        0        0        0        1  \n",
       "\n",
       "[5 rows x 209 columns]"
      ]
     },
     "execution_count": 45,
     "metadata": {},
     "output_type": "execute_result"
    }
   ],
   "source": [
    "data = pd.concat([data, pd.get_dummies(data['state'], prefix='state')], axis=1)\n",
    "data = pd.concat([data, pd.get_dummies(data['category'], prefix='category')], axis=1)\n",
    "data = pd.concat([data, pd.get_dummies(data['j_d_v'], prefix='j_d_v')], axis=1)\n",
    "data = data.drop(columns=['state', 'category', 'j_d_v'])\n",
    "data.head()"
   ]
  },
  {
   "cell_type": "markdown",
   "metadata": {},
   "source": []
  },
  {
   "cell_type": "markdown",
   "metadata": {},
   "source": [
    "## Model proposal\n",
    "\n",
    "We are going to build a model that predicts the salary.\n",
    "The objective is for a company to post a job and get an estimation of how much they should pay to this position."
   ]
  },
  {
   "cell_type": "markdown",
   "metadata": {},
   "source": [
    "For this we are going to first analyze the salary variable"
   ]
  },
  {
   "cell_type": "code",
   "execution_count": 46,
   "metadata": {},
   "outputs": [
    {
     "data": {
      "image/png": "[encoded data removed]",
      "text/plain": [
       "<Figure size 2160x1080 with 1 Axes>"
      ]
     },
     "metadata": {
      "needs_background": "light"
     },
     "output_type": "display_data"
    }
   ],
   "source": [
    "hist_fig, hist_ax = plt.subplots(figsize=(30,15))\n",
    "hist_ax.hist(data[['min_salary', 'max_salary']], bins = 50, label=['min_salary', 'max_salary'])\n",
    "hist_ax.legend()\n",
    "plt.show()"
   ]
  },
  {
   "cell_type": "code",
   "execution_count": 47,
   "metadata": {},
   "outputs": [
    {
     "data": {
      "text/html": [
       "<div>\n",
       "<style scoped>\n",
       "    .dataframe tbody tr th:only-of-type {\n",
       "        vertical-align: middle;\n",
       "    }\n",
       "\n",
       "    .dataframe tbody tr th {\n",
       "        vertical-align: top;\n",
       "    }\n",
       "\n",
       "    .dataframe thead th {\n",
       "        text-align: right;\n",
       "    }\n",
       "</style>\n",
       "<table border=\"1\" class=\"dataframe\">\n",
       "  <thead>\n",
       "    <tr style=\"text-align: right;\">\n",
       "      <th></th>\n",
       "      <th>min_salary</th>\n",
       "      <th>max_salary</th>\n",
       "    </tr>\n",
       "  </thead>\n",
       "  <tbody>\n",
       "    <tr>\n",
       "      <th>count</th>\n",
       "      <td>40868.000000</td>\n",
       "      <td>40868.000000</td>\n",
       "    </tr>\n",
       "    <tr>\n",
       "      <th>mean</th>\n",
       "      <td>14.250084</td>\n",
       "      <td>17.555207</td>\n",
       "    </tr>\n",
       "    <tr>\n",
       "      <th>std</th>\n",
       "      <td>8.278989</td>\n",
       "      <td>10.891853</td>\n",
       "    </tr>\n",
       "    <tr>\n",
       "      <th>min</th>\n",
       "      <td>0.257353</td>\n",
       "      <td>0.305882</td>\n",
       "    </tr>\n",
       "    <tr>\n",
       "      <th>25%</th>\n",
       "      <td>9.000000</td>\n",
       "      <td>10.784314</td>\n",
       "    </tr>\n",
       "    <tr>\n",
       "      <th>50%</th>\n",
       "      <td>12.000000</td>\n",
       "      <td>14.705882</td>\n",
       "    </tr>\n",
       "    <tr>\n",
       "      <th>75%</th>\n",
       "      <td>16.600000</td>\n",
       "      <td>20.588235</td>\n",
       "    </tr>\n",
       "    <tr>\n",
       "      <th>max</th>\n",
       "      <td>99.000000</td>\n",
       "      <td>147.058824</td>\n",
       "    </tr>\n",
       "  </tbody>\n",
       "</table>\n",
       "</div>"
      ],
      "text/plain": [
       "         min_salary    max_salary\n",
       "count  40868.000000  40868.000000\n",
       "mean      14.250084     17.555207\n",
       "std        8.278989     10.891853\n",
       "min        0.257353      0.305882\n",
       "25%        9.000000     10.784314\n",
       "50%       12.000000     14.705882\n",
       "75%       16.600000     20.588235\n",
       "max       99.000000    147.058824"
      ]
     },
     "execution_count": 47,
     "metadata": {},
     "output_type": "execute_result"
    }
   ],
   "source": [
    "data[['min_salary', 'max_salary']].describe()"
   ]
  },
  {
   "cell_type": "code",
   "execution_count": 48,
   "metadata": {},
   "outputs": [],
   "source": [
    "y1 = data['min_salary']\n",
    "y2 = data['max_salary']\n",
    "\n",
    "x = data.drop(columns = ['min_salary', 'max_salary'])"
   ]
  },
  {
   "cell_type": "markdown",
   "metadata": {},
   "source": [
    "### Minimum salary regressors"
   ]
  },
  {
   "cell_type": "markdown",
   "metadata": {},
   "source": [
    "Divide the data set in train and test datasets."
   ]
  },
  {
   "cell_type": "code",
   "execution_count": 49,
   "metadata": {},
   "outputs": [],
   "source": [
    "min_x_train, min_x_test, min_y_train, min_y_test = train_test_split(\n",
    "    x, y1, test_size=0.1)"
   ]
  },
  {
   "cell_type": "markdown",
   "metadata": {},
   "source": [
    "#### Support verctos machines regressors\n",
    "Polynomial kernel"
   ]
  },
  {
   "cell_type": "code",
   "execution_count": 50,
   "metadata": {},
   "outputs": [
    {
     "data": {
      "text/plain": [
       "0.3449998625572803"
      ]
     },
     "execution_count": 50,
     "metadata": {},
     "output_type": "execute_result"
    }
   ],
   "source": [
    "min_svr_regressor = SVR(kernel='poly')\n",
    "min_svr_regressor.fit(min_x_train, min_y_train)\n",
    "min_svr_regressor.score(min_x_test, min_y_test)"
   ]
  },
  {
   "cell_type": "markdown",
   "metadata": {},
   "source": [
    "Radial basis function kernel"
   ]
  },
  {
   "cell_type": "code",
   "execution_count": 51,
   "metadata": {},
   "outputs": [
    {
     "data": {
      "text/plain": [
       "0.32069275617728443"
      ]
     },
     "execution_count": 51,
     "metadata": {},
     "output_type": "execute_result"
    }
   ],
   "source": [
    "min_svr_regressor = SVR(kernel='rbf')\n",
    "min_svr_regressor.fit(min_x_train, min_y_train)\n",
    "min_svr_regressor.score(min_x_test, min_y_test)"
   ]
  },
  {
   "cell_type": "markdown",
   "metadata": {},
   "source": [
    "Linear kernel"
   ]
  },
  {
   "cell_type": "code",
   "execution_count": 52,
   "metadata": {},
   "outputs": [
    {
     "data": {
      "text/plain": [
       "0.20101752640558546"
      ]
     },
     "execution_count": 52,
     "metadata": {},
     "output_type": "execute_result"
    }
   ],
   "source": [
    "min_svr_regressor = SVR(kernel='linear')\n",
    "min_svr_regressor.fit(min_x_train, min_y_train)\n",
    "min_svr_regressor.score(min_x_test, min_y_test)"
   ]
  },
  {
   "cell_type": "markdown",
   "metadata": {},
   "source": [
    "#### Random forest regressor"
   ]
  },
  {
   "cell_type": "code",
   "execution_count": null,
   "metadata": {},
   "outputs": [],
   "source": [
    "min_rf_regressor = RandomForestRegressor(n_estimators=1000)\n",
    "min_rf_regressor.fit(min_x_train, min_y_train)\n",
    "min_rf_regressor.score(min_x_test, min_y_test)"
   ]
  },
  {
   "cell_type": "markdown",
   "metadata": {},
   "source": [
    "#### Simple fully connected neural network\n",
    "4 fully connected leayers with LeakyReLu activation function"
   ]
  },
  {
   "cell_type": "code",
   "execution_count": null,
   "metadata": {},
   "outputs": [],
   "source": [
    "dim_in = len(x.columns)\n",
    "dim_out = 1\n",
    "dim_hidden = [400, 200, 100]\n",
    "epochs = 100\n",
    "batch_size=10\n",
    "loss_fn = torch.nn.MSELoss() # loss function\n",
    "lr = 1e-3 # learning rate\n",
    "device = torch.device(\"cuda\" if torch.cuda.is_available() else \"cpu\")"
   ]
  },
  {
   "cell_type": "code",
   "execution_count": null,
   "metadata": {},
   "outputs": [],
   "source": [
    "device='cpu'"
   ]
  },
  {
   "cell_type": "code",
   "execution_count": null,
   "metadata": {},
   "outputs": [],
   "source": [
    "device"
   ]
  },
  {
   "cell_type": "code",
   "execution_count": null,
   "metadata": {},
   "outputs": [],
   "source": [
    "min_nn_model = torch.nn.Sequential(\n",
    "    torch.nn.Linear(dim_in, dim_hidden[0]),\n",
    "    torch.nn.Sigmoid(),\n",
    "    torch.nn.Linear(dim_hidden[0], dim_hidden[1]),\n",
    "    torch.nn.Sigmoid(),\n",
    "    torch.nn.Linear(dim_hidden[1], dim_hidden[2]),\n",
    "    torch.nn.Sigmoid(),\n",
    "    torch.nn.Linear(dim_hidden[2], dim_out),\n",
    ")\n",
    "min_nn_model.to(device)"
   ]
  },
  {
   "cell_type": "code",
   "execution_count": null,
   "metadata": {},
   "outputs": [],
   "source": [
    "x_torch = torch.tensor(min_x_train.values, dtype=torch.float, device=device)\n",
    "y_torch = torch.tensor(min_y_train.values, dtype=torch.float, device=device)\n",
    "\n",
    "\n",
    "min_torch_data = torch.utils.data.TensorDataset(x_torch, y_torch)\n",
    "\n",
    "loader = torch.utils.data.DataLoader(\n",
    "    dataset=min_torch_data,\n",
    "    batch_size=batch_size,\n",
    "    shuffle=True\n",
    ")\n",
    "x_torch.shape"
   ]
  },
  {
   "cell_type": "code",
   "execution_count": null,
   "metadata": {},
   "outputs": [],
   "source": [
    "for epoch in range(epochs):\n",
    "    y_hat = min_nn_model(x_torch)\n",
    "    loss = loss_fn(y_hat, y_torch)\n",
    "    \n",
    "    if epoch%10 == 9:\n",
    "        print(epoch, loss.item())\n",
    "    \n",
    "    min_nn_model.zero_grad()\n",
    "    \n",
    "    loss.backward()\n",
    "    \n",
    "    with torch.no_grad():\n",
    "        for param in min_nn_model.parameters():\n",
    "            param -= lr * param.grad"
   ]
  },
  {
   "cell_type": "code",
   "execution_count": null,
   "metadata": {},
   "outputs": [],
   "source": [
    "r2_score(min_nn_model(torch.tensor(min_x_test.values, dtype=torch.float)).detach().numpy(), min_y_test.values)"
   ]
  },
  {
   "cell_type": "markdown",
   "metadata": {},
   "source": [
    "### Maximum salary regressors"
   ]
  },
  {
   "cell_type": "markdown",
   "metadata": {},
   "source": [
    "Divide the data set in train and test datasets."
   ]
  },
  {
   "cell_type": "code",
   "execution_count": null,
   "metadata": {},
   "outputs": [],
   "source": [
    "max_x_train, max_x_test, max_y_train, max_y_test = train_test_split(\n",
    "    x, y2, test_size=0.1)"
   ]
  },
  {
   "cell_type": "markdown",
   "metadata": {},
   "source": [
    "#### Support verctos machines regressors\n",
    "Polynomial kernel"
   ]
  },
  {
   "cell_type": "code",
   "execution_count": null,
   "metadata": {},
   "outputs": [],
   "source": [
    "max_svr_regressor = SVR(kernel='poly')\n",
    "max_svr_regressor.fit(max_x_train, max_y_train)\n",
    "max_svr_regressor.score(max_x_test, max_y_test)"
   ]
  },
  {
   "cell_type": "markdown",
   "metadata": {},
   "source": [
    "Radial basis function kernel"
   ]
  },
  {
   "cell_type": "code",
   "execution_count": null,
   "metadata": {},
   "outputs": [],
   "source": [
    "max_svr_regressor = SVR(kernel='rbf')\n",
    "max_svr_regressor.fit(max_x_train, max_y_train)\n",
    "max_svr_regressor.score(max_x_test, max_y_test)"
   ]
  },
  {
   "cell_type": "markdown",
   "metadata": {},
   "source": [
    "Linear kernel"
   ]
  },
  {
   "cell_type": "code",
   "execution_count": null,
   "metadata": {},
   "outputs": [],
   "source": [
    "max_svr_regressor = SVR(kernel='linear')\n",
    "max_svr_regressor.fit(max_x_train, max_y_train)\n",
    "max_svr_regressor.score(max_x_test, max_y_test)"
   ]
  },
  {
   "cell_type": "markdown",
   "metadata": {},
   "source": [
    "#### Random forest regressor"
   ]
  },
  {
   "cell_type": "code",
   "execution_count": null,
   "metadata": {},
   "outputs": [],
   "source": [
    "max_rf_regressor = RandomForestRegressor(n_estimators=1000)\n",
    "max_rf_regressor.fit(max_x_train, max_y_train)\n",
    "max_rf_regressor.score(max_x_test, max_y_test)"
   ]
  },
  {
   "cell_type": "markdown",
   "metadata": {},
   "source": [
    "#### Simple fully connected neural network\n",
    "4 fully connected leayers with LeakyReLu activation function"
   ]
  },
  {
   "cell_type": "code",
   "execution_count": null,
   "metadata": {},
   "outputs": [],
   "source": [
    "dim_in = len(x.columns)\n",
    "dim_out = 1\n",
    "dim_hidden = [400, 200, 100]\n",
    "epochs = 100\n",
    "batch_size=10\n",
    "loss_fn = torch.nn.MSELoss() # loss function\n",
    "lr = 1e-3 # learning rate\n",
    "device = torch.device(\"cuda\" if torch.cuda.is_available() else \"cpu\")"
   ]
  },
  {
   "cell_type": "code",
   "execution_count": null,
   "metadata": {},
   "outputs": [],
   "source": [
    "device='cpu'"
   ]
  },
  {
   "cell_type": "code",
   "execution_count": null,
   "metadata": {},
   "outputs": [],
   "source": [
    "device"
   ]
  },
  {
   "cell_type": "code",
   "execution_count": null,
   "metadata": {},
   "outputs": [],
   "source": [
    "max_nn_model = torch.nn.Sequential(\n",
    "    torch.nn.Linear(dim_in, dim_hidden[0]),\n",
    "    torch.nn.Sigmoid(),\n",
    "    torch.nn.Linear(dim_hidden[0], dim_hidden[1]),\n",
    "    torch.nn.Sigmoid(),\n",
    "    torch.nn.Linear(dim_hidden[1], dim_hidden[2]),\n",
    "    torch.nn.Sigmoid(),\n",
    "    torch.nn.Linear(dim_hidden[2], dim_out),\n",
    ")\n",
    "max_nn_model.to(device)"
   ]
  },
  {
   "cell_type": "code",
   "execution_count": null,
   "metadata": {},
   "outputs": [],
   "source": [
    "x_torch = torch.tensor(max_x_train.values, dtype=torch.float, device=device)\n",
    "y_torch = torch.tensor(max_y_train.values, dtype=torch.float, device=device)\n",
    "\n",
    "\n",
    "max_torch_data = torch.utils.data.TensorDataset(x_torch, y_torch)\n",
    "\n",
    "loader = torch.utils.data.DataLoader(\n",
    "    dataset=max_torch_data,\n",
    "    batch_size=batch_size,\n",
    "    shuffle=True\n",
    ")\n",
    "x_torch.shape"
   ]
  },
  {
   "cell_type": "code",
   "execution_count": null,
   "metadata": {},
   "outputs": [],
   "source": [
    "for epoch in range(epochs):\n",
    "    y_hat = max_nn_model(x_torch)\n",
    "    loss = loss_fn(y_hat, y_torch)\n",
    "    \n",
    "    if epoch%10 == 9:\n",
    "        print(epoch, loss.item())\n",
    "    \n",
    "    max_nn_model.zero_grad()\n",
    "    \n",
    "    loss.backward()\n",
    "    \n",
    "    with torch.no_grad():\n",
    "        for param in max_nn_model.parameters():\n",
    "            param -= lr * param.grad"
   ]
  },
  {
   "cell_type": "code",
   "execution_count": null,
   "metadata": {},
   "outputs": [],
   "source": [
    "r2_score(max_nn_model(torch.tensor(max_x_test.values, dtype=torch.float)).detach().numpy(), max_y_test.values)"
   ]
  },
  {
   "cell_type": "markdown",
   "metadata": {},
   "source": [
    "We dump the models for production enviroment"
   ]
  },
  {
   "cell_type": "code",
   "execution_count": null,
   "metadata": {},
   "outputs": [],
   "source": [
    "joblib.dump(max_rf_regressor, 'models/max_salary_rf')"
   ]
  },
  {
   "cell_type": "code",
   "execution_count": null,
   "metadata": {},
   "outputs": [],
   "source": [
    "joblib.dump(min_rf_regressor, 'models/min_salary_rf')"
   ]
  },
  {
   "cell_type": "code",
   "execution_count": null,
   "metadata": {},
   "outputs": [],
   "source": [
    "data.to_csv('data.csv')"
   ]
  },
  {
   "cell_type": "markdown",
   "metadata": {},
   "source": [
    "## Conclusions"
   ]
  },
  {
   "cell_type": "markdown",
   "metadata": {},
   "source": [
    "## Next steps"
   ]
  }
 ],
 "metadata": {
  "kernelspec": {
   "display_name": "Python 3",
   "language": "python",
   "name": "python3"
  },
  "language_info": {
   "codemirror_mode": {
    "name": "ipython",
    "version": 3
   },
   "file_extension": ".py",
   "mimetype": "text/x-python",
   "name": "python",
   "nbconvert_exporter": "python",
   "pygments_lexer": "ipython3",
   "version": "3.8.5"
  }
 },
 "nbformat": 4,
 "nbformat_minor": 4
}
